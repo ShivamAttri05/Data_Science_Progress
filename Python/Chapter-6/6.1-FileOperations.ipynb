{
 "cells": [
  {
   "cell_type": "markdown",
   "id": "ce5dd413",
   "metadata": {},
   "source": [
    "## File Operations - Read and Write Files\n",
    "\n",
    "- File operations is a crucial part of any programming language. Python provides built in functions and methods to read and write to a file, both text and binary. This lesson will cover the basics of handling, including reading and writing text files and binary files."
   ]
  },
  {
   "cell_type": "code",
   "execution_count": null,
   "id": "ff36282f",
   "metadata": {},
   "outputs": [
    {
     "name": "stdout",
     "output_type": "stream",
     "text": [
      "Hello I am Shivam Attri\n"
     ]
    }
   ],
   "source": [
    "# Read a whole file line by line\n",
    "\n",
    "with open('sample.txt', mode='r') as file:\n",
    "    for line in file:\n",
    "        print(line.strip())         # This .strip() operator removes the newline character\n",
    "    "
   ]
  },
  {
   "cell_type": "code",
   "execution_count": null,
   "id": "9c242c10",
   "metadata": {},
   "outputs": [
    {
     "name": "stdout",
     "output_type": "stream",
     "text": [
      "Hello I am Shivam Attri\n"
     ]
    }
   ],
   "source": [
    "# Without Loop\n",
    "\n",
    "with open('sample.txt', mode='r') as file:\n",
    "    content = file.read()\n",
    "    print(content)"
   ]
  },
  {
   "cell_type": "code",
   "execution_count": 3,
   "id": "ca4a5e8c",
   "metadata": {},
   "outputs": [],
   "source": [
    "# Writing a File (Overwrite)\n",
    "\n",
    "with open('sample.txt', 'w') as file:\n",
    "    file.write(\"Hello World\\n\")\n",
    "    file.write(\"Hello I am Shivam Attri\\n\")"
   ]
  },
  {
   "cell_type": "code",
   "execution_count": null,
   "id": "210ca39c",
   "metadata": {},
   "outputs": [],
   "source": [
    "# Write a file without overwriting\n",
    "\n",
    "with open('sample.txt', 'a') as file:\n",
    "    file.write(\"I am form Rohtak, Haryana\\n\")"
   ]
  },
  {
   "cell_type": "code",
   "execution_count": null,
   "id": "ed3bcb6b",
   "metadata": {},
   "outputs": [],
   "source": [
    "# Writing a list of Line to a file\n",
    "\n",
    "lines = ['First Line \\n', 'Second Line \\n', 'Third Line \\n']\n",
    "\n",
    "with open('sample.txt', 'a') as file:\n",
    "    file.writelines(lines)"
   ]
  },
  {
   "cell_type": "code",
   "execution_count": 8,
   "id": "af261f6d",
   "metadata": {},
   "outputs": [],
   "source": [
    "# Binary Files\n",
    "\n",
    "# Writing to a binary file\n",
    "\n",
    "data = b'\\x00\\x01\\x02\\x03\\x04'\n",
    "with open('sample.bin', 'wb') as file:\n",
    "    file.write(data)"
   ]
  },
  {
   "cell_type": "code",
   "execution_count": 9,
   "id": "1944cb24",
   "metadata": {},
   "outputs": [
    {
     "name": "stdout",
     "output_type": "stream",
     "text": [
      "b'\\x00\\x01\\x02\\x03\\x04'\n"
     ]
    }
   ],
   "source": [
    "with open('sample.bin', 'rb') as file:\n",
    "    content = file.read()\n",
    "    print(content)"
   ]
  },
  {
   "cell_type": "code",
   "execution_count": 12,
   "id": "d0cc502a",
   "metadata": {},
   "outputs": [
    {
     "name": "stdout",
     "output_type": "stream",
     "text": [
      "Hello World\n",
      "This is a new line\n",
      "\n"
     ]
    }
   ],
   "source": [
    "# Writing (overwrite) and then reading a file\n",
    "\n",
    "with open('example.txt', 'w+') as file:\n",
    "    file.write(\"Hello World\\n\")\n",
    "    file.write(\"This is a new line\\n\")\n",
    "\n",
    "    file.seek(0)\n",
    "\n",
    "    content = file.read()\n",
    "    print(content) "
   ]
  }
 ],
 "metadata": {
  "kernelspec": {
   "display_name": "Python 3",
   "language": "python",
   "name": "python3"
  },
  "language_info": {
   "codemirror_mode": {
    "name": "ipython",
    "version": 3
   },
   "file_extension": ".py",
   "mimetype": "text/x-python",
   "name": "python",
   "nbconvert_exporter": "python",
   "pygments_lexer": "ipython3",
   "version": "3.12.0"
  }
 },
 "nbformat": 4,
 "nbformat_minor": 5
}
