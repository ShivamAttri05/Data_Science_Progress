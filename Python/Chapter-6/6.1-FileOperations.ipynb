{
 "cells": [
  {
   "cell_type": "markdown",
   "id": "ce5dd413",
   "metadata": {},
   "source": [
    "## File Operations - Read and Write Files\n",
    "\n",
    "- File operations is a crucial part of any programming language. Python provides built in functions and methods to read and write to a file, both text and binary. This lesson will cover the basics of handling, including reading and writing text files and binary files."
   ]
  },
  {
   "cell_type": "code",
   "execution_count": 1,
   "id": "ff36282f",
   "metadata": {},
   "outputs": [
    {
     "name": "stdout",
     "output_type": "stream",
     "text": [
      "Hello I am Shivam Attri\n"
     ]
    }
   ],
   "source": [
    "# Read a whole file\n",
    "\n",
    "with open('sample.txt', mode='r') as file:\n",
    "    for line in file:\n",
    "        print(line)\n",
    "    "
   ]
  },
  {
   "cell_type": "code",
   "execution_count": null,
   "id": "9c242c10",
   "metadata": {},
   "outputs": [
    {
     "name": "stdout",
     "output_type": "stream",
     "text": [
      "Hello I am Shivam Attri\n"
     ]
    }
   ],
   "source": [
    "# Without Loop\n",
    "\n",
    "with open('sample.txt', mode='r') as file:\n",
    "    content = file.read()\n",
    "    print(content)"
   ]
  },
  {
   "cell_type": "code",
   "execution_count": null,
   "id": "ca4a5e8c",
   "metadata": {},
   "outputs": [],
   "source": []
  }
 ],
 "metadata": {
  "kernelspec": {
   "display_name": "Python 3",
   "language": "python",
   "name": "python3"
  },
  "language_info": {
   "codemirror_mode": {
    "name": "ipython",
    "version": 3
   },
   "file_extension": ".py",
   "mimetype": "text/x-python",
   "name": "python",
   "nbconvert_exporter": "python",
   "pygments_lexer": "ipython3",
   "version": "3.12.0"
  }
 },
 "nbformat": 4,
 "nbformat_minor": 5
}
