{
 "cells": [
  {
   "cell_type": "markdown",
   "id": "38059993",
   "metadata": {},
   "source": [
    "## Conditional Statement"
   ]
  },
  {
   "cell_type": "markdown",
   "id": "fc2feae9",
   "metadata": {},
   "source": [
    "### If Else Statement \n",
    "- if else statement evaluate the condition and execute the block of code within it, fs condition is true then it will execute the if block otherwise the else block. "
   ]
  },
  {
   "cell_type": "code",
   "execution_count": 1,
   "id": "82fc1b33",
   "metadata": {},
   "outputs": [
    {
     "name": "stdout",
     "output_type": "stream",
     "text": [
      "You are allowed to vote\n"
     ]
    }
   ],
   "source": [
    "age = 20\n",
    "\n",
    "if(age >= 18):\n",
    "    print(\"You are allowed to vote\")\n",
    "else:\n",
    "    print(\"You cannot vote\")"
   ]
  },
  {
   "cell_type": "markdown",
   "id": "b7136888",
   "metadata": {},
   "source": [
    "### Elif\n",
    "- The elif statement allow us to check multiple conditions. It stands for \"else if\""
   ]
  },
  {
   "cell_type": "code",
   "execution_count": 2,
   "id": "7d2aa01b",
   "metadata": {},
   "outputs": [
    {
     "name": "stdout",
     "output_type": "stream",
     "text": [
      "You are a teenager\n"
     ]
    }
   ],
   "source": [
    "age = 15\n",
    "\n",
    "if(age <= 10):\n",
    "    print(\"You are kid\")\n",
    "elif(age>=18):\n",
    "    print(\"You are an adult\")\n",
    "else:\n",
    "    print(\"You are a teenager\")"
   ]
  },
  {
   "cell_type": "markdown",
   "id": "eb2fbcdf",
   "metadata": {},
   "source": [
    "### Nested Conditional Statement\n",
    "- You can place one or more if, elif, or else statement inside another if, elif, or else statement to create nested conditional statement."
   ]
  },
  {
   "cell_type": "code",
   "execution_count": 3,
   "id": "d82b13ce",
   "metadata": {},
   "outputs": [
    {
     "name": "stdout",
     "output_type": "stream",
     "text": [
      "x is positive\n",
      "y is also positive\n"
     ]
    }
   ],
   "source": [
    "x = 10\n",
    "y = 5\n",
    "\n",
    "if x > 0:\n",
    "    print(\"x is positive\")\n",
    "    if y > 0:\n",
    "        print(\"y is also positive\")\n",
    "    else:\n",
    "        print(\"y is not positive\")\n",
    "else:\n",
    "    print(\"x is not positive\")"
   ]
  }
 ],
 "metadata": {
  "kernelspec": {
   "display_name": "Python 3",
   "language": "python",
   "name": "python3"
  },
  "language_info": {
   "codemirror_mode": {
    "name": "ipython",
    "version": 3
   },
   "file_extension": ".py",
   "mimetype": "text/x-python",
   "name": "python",
   "nbconvert_exporter": "python",
   "pygments_lexer": "ipython3",
   "version": "3.12.0"
  }
 },
 "nbformat": 4,
 "nbformat_minor": 5
}
