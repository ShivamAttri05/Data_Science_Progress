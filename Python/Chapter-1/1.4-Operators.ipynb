{
 "cells": [
  {
   "cell_type": "markdown",
   "id": "fef84fe7",
   "metadata": {},
   "source": [
    "## Operator"
   ]
  },
  {
   "cell_type": "markdown",
   "id": "73d39d3c",
   "metadata": {},
   "source": [
    "### Arithmetic Operator"
   ]
  },
  {
   "cell_type": "code",
   "execution_count": 1,
   "id": "246be01f",
   "metadata": {},
   "outputs": [
    {
     "name": "stdout",
     "output_type": "stream",
     "text": [
      "15\n",
      "5\n",
      "50\n",
      "2.0\n",
      "2\n",
      "0\n"
     ]
    }
   ],
   "source": [
    "a = 10\n",
    "b = 5\n",
    "\n",
    "addResult = a + b\n",
    "subResult = a - b\n",
    "mulResult = a * b\n",
    "divResult = a / b\n",
    "floorDivResult = a//b\n",
    "modulusResult = a % b\n",
    "\n",
    "print(addResult)\n",
    "print(subResult)\n",
    "print(mulResult)\n",
    "print(divResult)\n",
    "print(floorDivResult)\n",
    "print(modulusResult)"
   ]
  },
  {
   "cell_type": "markdown",
   "id": "f104bd74",
   "metadata": {},
   "source": [
    "### Comparision Operators"
   ]
  },
  {
   "cell_type": "code",
   "execution_count": 2,
   "id": "632c8648",
   "metadata": {},
   "outputs": [
    {
     "data": {
      "text/plain": [
       "True"
      ]
     },
     "execution_count": 2,
     "metadata": {},
     "output_type": "execute_result"
    }
   ],
   "source": [
    "a = 10\n",
    "b = 10\n",
    "c = 12\n",
    "\n",
    "# Equal to Operator (==)\n",
    "a==b\n",
    "a==c\n",
    "\n",
    "# Not Equal to (!=)\n",
    "a!=b\n",
    "a!=c\n",
    "\n",
    "# Some Other operations are <, >, <=, >="
   ]
  },
  {
   "cell_type": "markdown",
   "id": "18440ff4",
   "metadata": {},
   "source": [
    "### Logical Operators"
   ]
  },
  {
   "cell_type": "code",
   "execution_count": 3,
   "id": "97598d78",
   "metadata": {},
   "outputs": [
    {
     "name": "stdout",
     "output_type": "stream",
     "text": [
      "False\n",
      "True\n",
      "False\n"
     ]
    }
   ],
   "source": [
    "## And, Not, OR\n",
    "\n",
    "isTrue = True\n",
    "isFalse = False\n",
    "\n",
    "andOperator = isTrue and isFalse\n",
    "print(andOperator)\n",
    "\n",
    "orOperator = isTrue or isFalse\n",
    "print(orOperator)\n",
    "\n",
    "notOperator = not(isTrue)\n",
    "print(notOperator)"
   ]
  }
 ],
 "metadata": {
  "kernelspec": {
   "display_name": "Python 3",
   "language": "python",
   "name": "python3"
  },
  "language_info": {
   "codemirror_mode": {
    "name": "ipython",
    "version": 3
   },
   "file_extension": ".py",
   "mimetype": "text/x-python",
   "name": "python",
   "nbconvert_exporter": "python",
   "pygments_lexer": "ipython3",
   "version": "3.12.0"
  }
 },
 "nbformat": 4,
 "nbformat_minor": 5
}
