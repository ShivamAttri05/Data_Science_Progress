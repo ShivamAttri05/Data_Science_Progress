{
 "cells": [
  {
   "cell_type": "markdown",
   "id": "2d531cfa",
   "metadata": {},
   "source": [
    "## Variables\n",
    "- Variables are the fundamental elements in programming languages used to store data that can be referenced and manipulated in a program. In Python, variables are created when you assign a value to them, and they do not need explicit decelaration to reserve memory space. The declaration happens automatically when you assign a value to a variable."
   ]
  },
  {
   "cell_type": "code",
   "execution_count": null,
   "id": "66311c15",
   "metadata": {},
   "outputs": [],
   "source": [
    "# Declaration of Variable\n",
    "\n",
    "name = \"Shivam\""
   ]
  },
  {
   "cell_type": "code",
   "execution_count": null,
   "id": "1e7c41b4",
   "metadata": {},
   "outputs": [],
   "source": [
    "# Printing Variable\n",
    "\n",
    "print(\"Name: \",name)"
   ]
  },
  {
   "cell_type": "markdown",
   "id": "980a8597",
   "metadata": {},
   "source": [
    "## Naming Convention\n",
    "\n",
    "- Variable name should be discriptive.\n",
    "- They must start with a letter or an \"_\" and contain letter, numbers or underscore.\n",
    "- They are Case Sensitive i.e. name and Name have different meanings"
   ]
  },
  {
   "cell_type": "code",
   "execution_count": null,
   "id": "c821140f",
   "metadata": {},
   "outputs": [],
   "source": [
    "# Valid Variable Name\n",
    "\n",
    "First_Name = \"Shivam\"\n",
    "Last_Name = \"Attri\""
   ]
  },
  {
   "cell_type": "code",
   "execution_count": null,
   "id": "4814fc7b",
   "metadata": {},
   "outputs": [],
   "source": [
    "# Understanding Variable Types\n",
    "\n",
    "# Python is dynamically types, type of variable is determined at runtime\n",
    "\n",
    "Name = \"Shivam\" # String\n",
    "Age = 32 # Integer\n",
    "Height = 6.1 # Float"
   ]
  },
  {
   "cell_type": "code",
   "execution_count": null,
   "id": "743be105",
   "metadata": {},
   "outputs": [],
   "source": [
    "# Type Checking and Conversion\n",
    "\n",
    "age = 25\n",
    "print(type(age))\n",
    "\n",
    "age_str = str(age)\n",
    "print(age_str)\n",
    "print(type(age_str))"
   ]
  },
  {
   "cell_type": "code",
   "execution_count": null,
   "id": "9be2fc4f",
   "metadata": {},
   "outputs": [],
   "source": [
    "# Input in Python\n",
    "age = input(\"What is your age\")\n",
    "print(age, type(age))"
   ]
  },
  {
   "cell_type": "code",
   "execution_count": null,
   "id": "83674884",
   "metadata": {},
   "outputs": [],
   "source": [
    "age = int(input(\"What is your age\"))\n",
    "print(age, type(age))"
   ]
  },
  {
   "cell_type": "code",
   "execution_count": null,
   "id": "501fe5e6",
   "metadata": {},
   "outputs": [],
   "source": []
  }
 ],
 "metadata": {
  "kernelspec": {
   "display_name": "Python 3",
   "language": "python",
   "name": "python3"
  },
  "language_info": {
   "codemirror_mode": {
    "name": "ipython",
    "version": 3
   },
   "file_extension": ".py",
   "mimetype": "text/x-python",
   "name": "python",
   "nbconvert_exporter": "python",
   "pygments_lexer": "ipython3",
   "version": "3.12.0"
  }
 },
 "nbformat": 4,
 "nbformat_minor": 5
}
