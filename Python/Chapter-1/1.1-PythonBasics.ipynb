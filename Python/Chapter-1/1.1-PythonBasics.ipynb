{
 "cells": [
  {
   "cell_type": "markdown",
   "id": "146dfb64",
   "metadata": {},
   "source": [
    "# Python Basics"
   ]
  },
  {
   "cell_type": "markdown",
   "id": "184e4cad",
   "metadata": {},
   "source": [
    "## Syntax in Python\n",
    "- It refer to the set of rules that defines the combination of symbols that are considered to be correctly structured programs in a language.\n",
    "- In simple terms, syntax is about the correct arrangement of words and symbols in a code.\n",
    "\n",
    "## Semantics in Python\n",
    "- It refer to the meaning or the interpretation of the symbols, characters, and comments in a language. It is about what the code is supposed to do when it runs."
   ]
  },
  {
   "cell_type": "code",
   "execution_count": 1,
   "id": "e28d1216",
   "metadata": {},
   "outputs": [
    {
     "name": "stdout",
     "output_type": "stream",
     "text": [
      "Shivam\n",
      "Attri\n"
     ]
    }
   ],
   "source": [
    "# Basic Syntax rule in python\n",
    "# Python is Case Sensitive\n",
    "\n",
    "Name = \"Shivam\"\n",
    "name = \"Attri\"\n",
    "\n",
    "print(Name)\n",
    "print(name)"
   ]
  },
  {
   "cell_type": "markdown",
   "id": "e1496fad",
   "metadata": {},
   "source": [
    "## Indentation\n",
    "\n",
    "- It is used to define te structure and hierarchy of the code. Unlike many other programming languages that use braces () to delimit blocks of code.\n",
    "- Python uses indentation to determine the grouping of statements. This means that all the statements within a block must be indented at the same level."
   ]
  },
  {
   "cell_type": "code",
   "execution_count": 2,
   "id": "8c58d83c",
   "metadata": {},
   "outputs": [
    {
     "name": "stdout",
     "output_type": "stream",
     "text": [
      "Age is greater than 12\n"
     ]
    }
   ],
   "source": [
    "age = 19\n",
    "if age>12:\n",
    "    print(\"Age is greater than 12\")\n",
    "else:\n",
    "    print(\"Age is smaller than 12\")"
   ]
  },
  {
   "cell_type": "code",
   "execution_count": 3,
   "id": "45f990f0",
   "metadata": {},
   "outputs": [
    {
     "name": "stdout",
     "output_type": "stream",
     "text": [
      "55\n"
     ]
    }
   ],
   "source": [
    "# Line Continuation - for this we use blackslash \"\\\"\n",
    "\n",
    "Total = 1 + 2 + 3 + 4 + 5\\\n",
    "+ 6 + 7 + 8 + 9 + 10\n",
    "\n",
    "print(Total)"
   ]
  },
  {
   "cell_type": "code",
   "execution_count": 4,
   "id": "901874a6",
   "metadata": {},
   "outputs": [
    {
     "name": "stdout",
     "output_type": "stream",
     "text": [
      "15\n"
     ]
    }
   ],
   "source": [
    "# Multiple Statement on a single line\n",
    "x = 5; y = 10; z = x + y; print(z)"
   ]
  },
  {
   "cell_type": "code",
   "execution_count": 5,
   "id": "f683fa00",
   "metadata": {},
   "outputs": [
    {
     "name": "stdout",
     "output_type": "stream",
     "text": [
      "<class 'int'>\n",
      "<class 'str'>\n"
     ]
    }
   ],
   "source": [
    "# Type Interference\n",
    "\n",
    "var = 10\n",
    "print(type(var))\n",
    "var = \"Shivam\"\n",
    "print(type(var))"
   ]
  }
 ],
 "metadata": {
  "kernelspec": {
   "display_name": "Python 3",
   "language": "python",
   "name": "python3"
  },
  "language_info": {
   "codemirror_mode": {
    "name": "ipython",
    "version": 3
   },
   "file_extension": ".py",
   "mimetype": "text/x-python",
   "name": "python",
   "nbconvert_exporter": "python",
   "pygments_lexer": "ipython3",
   "version": "3.12.0"
  }
 },
 "nbformat": 4,
 "nbformat_minor": 5
}
