{
 "cells": [
  {
   "cell_type": "markdown",
   "id": "ef4c3d00",
   "metadata": {},
   "source": [
    "## Data Types\n",
    "- Data Types are the classification of data which tell the complier or interpreter how the programmer intends to use the data.\n",
    "- They determine the type of operations that can be performed on the data, the values that the data can take, and the amount of memory needed to store  the data."
   ]
  },
  {
   "cell_type": "markdown",
   "id": "5a6d65e3",
   "metadata": {},
   "source": [
    "### Importance of Data Types\n",
    "\n",
    "Explanation:\n",
    "- Data Types ensure that the data is stored in an efficient way.\n",
    "- They help in performing correct operations on data.\n",
    "- Proper use of data types can prevent errors and bugs in the problem."
   ]
  },
  {
   "cell_type": "code",
   "execution_count": null,
   "id": "11751f3d",
   "metadata": {},
   "outputs": [],
   "source": [
    "# Integers\n",
    "\n",
    "age = 19\n",
    "type(age)\n"
   ]
  },
  {
   "cell_type": "code",
   "execution_count": null,
   "id": "c387c706",
   "metadata": {},
   "outputs": [],
   "source": [
    "# Floating point data type\n",
    "\n",
    "pi = 3.14\n",
    "type(pi)"
   ]
  },
  {
   "cell_type": "code",
   "execution_count": null,
   "id": "2bccf88d",
   "metadata": {},
   "outputs": [],
   "source": [
    "# String \n",
    "\n",
    "name = \"Shivam\"\n",
    "type(name)"
   ]
  },
  {
   "cell_type": "code",
   "execution_count": null,
   "id": "ee518429",
   "metadata": {},
   "outputs": [],
   "source": [
    "# Boolean \n",
    "\n",
    "a = True\n",
    "type(a)"
   ]
  }
 ],
 "metadata": {
  "kernelspec": {
   "display_name": "Python 3",
   "language": "python",
   "name": "python3"
  },
  "language_info": {
   "codemirror_mode": {
    "name": "ipython",
    "version": 3
   },
   "file_extension": ".py",
   "mimetype": "text/x-python",
   "name": "python",
   "nbconvert_exporter": "python",
   "pygments_lexer": "ipython3",
   "version": "3.12.0"
  }
 },
 "nbformat": 4,
 "nbformat_minor": 5
}
