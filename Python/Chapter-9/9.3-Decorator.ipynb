{
 "cells": [
  {
   "cell_type": "markdown",
   "id": "4b1cd26c",
   "metadata": {},
   "source": [
    "## Decorators in Python\n",
    "\n",
    "Decorator are powerful and flexible feature in python that allows you to modify the behaviour of a function or the class method. They are commonly used to add functionality to function or methods without modifying thier actual code. This lesson covers the basic decorators, including how to create and use them."
   ]
  },
  {
   "cell_type": "markdown",
   "id": "28fed927",
   "metadata": {},
   "source": [
    "Before understanding Decorator we need to understand\n",
    "- function copy\n",
    "- closures\n",
    "- decorators"
   ]
  },
  {
   "cell_type": "code",
   "execution_count": 5,
   "id": "38c08e7a",
   "metadata": {},
   "outputs": [
    {
     "data": {
      "text/plain": [
       "'Welcome'"
      ]
     },
     "execution_count": 5,
     "metadata": {},
     "output_type": "execute_result"
    }
   ],
   "source": [
    "# Function Copy\n",
    "\n",
    "def welcome():\n",
    "    return \"Welcome\"\n",
    "\n",
    "welcome()"
   ]
  },
  {
   "cell_type": "code",
   "execution_count": null,
   "id": "d44e4cbc",
   "metadata": {},
   "outputs": [
    {
     "name": "stdout",
     "output_type": "stream",
     "text": [
      "Welcome\n"
     ]
    }
   ],
   "source": [
    "wel = welcome       # Creating a copy of a function\n",
    "print(wel())"
   ]
  },
  {
   "cell_type": "code",
   "execution_count": 7,
   "id": "751ed657",
   "metadata": {},
   "outputs": [
    {
     "name": "stdout",
     "output_type": "stream",
     "text": [
      "Welcome\n"
     ]
    }
   ],
   "source": [
    "del welcome     # Deleting a Function\n",
    "print(wel())"
   ]
  },
  {
   "cell_type": "code",
   "execution_count": 8,
   "id": "9fddb7de",
   "metadata": {},
   "outputs": [],
   "source": [
    "# Closures\n",
    "\n",
    "def main_welcome():\n",
    "    msg = \"welcome\"\n",
    "    def sub_welcome():\n",
    "        print(\"Welcome to My Github Repo\")\n",
    "\n",
    "    return sub_welcome()"
   ]
  },
  {
   "cell_type": "code",
   "execution_count": 9,
   "id": "09e12c93",
   "metadata": {},
   "outputs": [
    {
     "name": "stdout",
     "output_type": "stream",
     "text": [
      "Welcome to My Github Repo\n"
     ]
    }
   ],
   "source": [
    "main_welcome()"
   ]
  },
  {
   "cell_type": "code",
   "execution_count": 10,
   "id": "225a7ba8",
   "metadata": {},
   "outputs": [],
   "source": [
    "# Decorator\n",
    "\n",
    "def main_welcome(func):\n",
    "    def sub_welcome():\n",
    "        print(\"Welcome to My Github Repo\")\n",
    "        func()\n",
    "\n",
    "    return sub_welcome()"
   ]
  },
  {
   "cell_type": "code",
   "execution_count": 11,
   "id": "ef9461d5",
   "metadata": {},
   "outputs": [
    {
     "name": "stdout",
     "output_type": "stream",
     "text": [
      "this is an advance python course\n"
     ]
    }
   ],
   "source": [
    "def courseIntro():\n",
    "    print(\"this is an advance python course\")\n",
    "\n",
    "courseIntro()"
   ]
  },
  {
   "cell_type": "code",
   "execution_count": 12,
   "id": "9572f170",
   "metadata": {},
   "outputs": [
    {
     "name": "stdout",
     "output_type": "stream",
     "text": [
      "Welcome to My Github Repo\n",
      "this is an advance python course\n"
     ]
    }
   ],
   "source": [
    "main_welcome(courseIntro)"
   ]
  },
  {
   "cell_type": "code",
   "execution_count": 13,
   "id": "b66d5a79",
   "metadata": {},
   "outputs": [
    {
     "name": "stdout",
     "output_type": "stream",
     "text": [
      "Welcome to My Github Repo\n",
      "this is an advance python course\n"
     ]
    }
   ],
   "source": [
    "@main_welcome\n",
    "def courseIntro():\n",
    "    print(\"this is an advance python course\")"
   ]
  },
  {
   "cell_type": "code",
   "execution_count": null,
   "id": "d22c78d5",
   "metadata": {},
   "outputs": [],
   "source": []
  }
 ],
 "metadata": {
  "kernelspec": {
   "display_name": "Python 3",
   "language": "python",
   "name": "python3"
  },
  "language_info": {
   "codemirror_mode": {
    "name": "ipython",
    "version": 3
   },
   "file_extension": ".py",
   "mimetype": "text/x-python",
   "name": "python",
   "nbconvert_exporter": "python",
   "pygments_lexer": "ipython3",
   "version": "3.12.0"
  }
 },
 "nbformat": 4,
 "nbformat_minor": 5
}
