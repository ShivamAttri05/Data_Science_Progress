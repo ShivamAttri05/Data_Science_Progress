{
 "cells": [
  {
   "cell_type": "markdown",
   "id": "610b6ca9",
   "metadata": {},
   "source": [
    "## Standard Library overview "
   ]
  },
  {
   "cell_type": "markdown",
   "id": "8d948dea",
   "metadata": {},
   "source": [
    "Python Standard library is a vast collection of modules and packages that come bundled with python, providing a wide range of functionalities out of the box.\n",
    "\n",
    "Here's an overview of some of the most commonly used modules and packages in the Python Standard Library"
   ]
  },
  {
   "cell_type": "code",
   "execution_count": 1,
   "id": "cfbb01f5",
   "metadata": {},
   "outputs": [
    {
     "name": "stdout",
     "output_type": "stream",
     "text": [
      "array('i', [1, 2, 3, 4, 5, 6])\n"
     ]
    }
   ],
   "source": [
    "import array\n",
    "\n",
    "arr = array.array('i', [1,2,3,4,5,6])\n",
    "print(arr)"
   ]
  },
  {
   "cell_type": "code",
   "execution_count": 1,
   "id": "9ab0cecd",
   "metadata": {},
   "outputs": [
    {
     "name": "stdout",
     "output_type": "stream",
     "text": [
      "4.0\n"
     ]
    }
   ],
   "source": [
    "import math\n",
    "\n",
    "print(math.sqrt(16))"
   ]
  },
  {
   "cell_type": "code",
   "execution_count": 2,
   "id": "4836f525",
   "metadata": {},
   "outputs": [
    {
     "name": "stdout",
     "output_type": "stream",
     "text": [
      "62\n"
     ]
    }
   ],
   "source": [
    "import random\n",
    "\n",
    "print(random.randint(1,100))"
   ]
  },
  {
   "cell_type": "code",
   "execution_count": 3,
   "id": "118254d8",
   "metadata": {},
   "outputs": [
    {
     "name": "stdout",
     "output_type": "stream",
     "text": [
      "banana\n"
     ]
    }
   ],
   "source": [
    "print(random.choice(['apple', 'banana', 'mango']))"
   ]
  },
  {
   "cell_type": "code",
   "execution_count": null,
   "id": "cdbb9270",
   "metadata": {},
   "outputs": [
    {
     "name": "stdout",
     "output_type": "stream",
     "text": [
      "d:\\4 Years Of Programming\\Data_Science\\Python\\Chapter-5\n"
     ]
    }
   ],
   "source": [
    "import os\n",
    "\n",
    "print(os.getcwd())              # cwd = Current Working Directory\n",
    "os.makedirs('test_dir')         # Creates a folder"
   ]
  },
  {
   "cell_type": "code",
   "execution_count": 6,
   "id": "e9579c44",
   "metadata": {},
   "outputs": [
    {
     "name": "stdout",
     "output_type": "stream",
     "text": [
      "{'name': 'Shivam Attri', 'college': 'Vaish College of Engineering'} <class 'dict'>\n",
      "{\"name\": \"Shivam Attri\", \"college\": \"Vaish College of Engineering\"} <class 'str'>\n",
      "{'name': 'Shivam Attri', 'college': 'Vaish College of Engineering'} <class 'dict'>\n"
     ]
    }
   ],
   "source": [
    "# Data Serialization\n",
    "\n",
    "import json\n",
    "data = {'name': \"Shivam Attri\", 'college': \"Vaish College of Engineering\"}\n",
    "\n",
    "print(data, type(data))\n",
    "\n",
    "json_str = json.dumps(data)\n",
    "print(json_str, type(json_str))\n",
    "\n",
    "parsed_data = json.loads(json_str)\n",
    "print(parsed_data, type(parsed_data))"
   ]
  },
  {
   "cell_type": "code",
   "execution_count": 7,
   "id": "437fcb7b",
   "metadata": {},
   "outputs": [
    {
     "name": "stdout",
     "output_type": "stream",
     "text": [
      "['name', 'age']\n",
      "['Shivam', '19']\n",
      "['Varun', '18']\n",
      "['Tanuj', '20']\n"
     ]
    }
   ],
   "source": [
    "# CSV\n",
    "\n",
    "import csv\n",
    "\n",
    "with open('example.csv', mode = 'w', newline= '') as file:\n",
    "    writer = csv.writer(file)\n",
    "\n",
    "    writer.writerow(['name', 'age'])\n",
    "    writer.writerow(['Shivam', 19])\n",
    "    writer.writerow(['Varun', 18])\n",
    "    writer.writerow(['Tanuj', 20])\n",
    "\n",
    "with open('example.csv', mode='r') as file:\n",
    "    render = csv.reader(file)\n",
    "    for row in render:\n",
    "        print(row)"
   ]
  },
  {
   "cell_type": "code",
   "execution_count": null,
   "id": "b88f6e7e",
   "metadata": {},
   "outputs": [],
   "source": []
  }
 ],
 "metadata": {
  "kernelspec": {
   "display_name": "Python 3",
   "language": "python",
   "name": "python3"
  },
  "language_info": {
   "codemirror_mode": {
    "name": "ipython",
    "version": 3
   },
   "file_extension": ".py",
   "mimetype": "text/x-python",
   "name": "python",
   "nbconvert_exporter": "python",
   "pygments_lexer": "ipython3",
   "version": "3.12.0"
  }
 },
 "nbformat": 4,
 "nbformat_minor": 5
}
