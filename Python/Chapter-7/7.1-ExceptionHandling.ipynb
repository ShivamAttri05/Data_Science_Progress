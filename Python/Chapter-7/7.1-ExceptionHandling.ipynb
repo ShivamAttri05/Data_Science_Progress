{
 "cells": [
  {
   "cell_type": "markdown",
   "id": "0c98e696",
   "metadata": {},
   "source": [
    "## Understanding Exceptions\n",
    "\n",
    "Exception Handling in python allow us to handle errors gracefully and take corrective actions without stopping the execution of the program. This lesson will cover the basics of exception, including how to use try, except, else and finally blocks."
   ]
  },
  {
   "cell_type": "markdown",
   "id": "85fdd965",
   "metadata": {},
   "source": [
    "## What are Expections?\n",
    "\n",
    "Exceptions are events that disrupt the normal flow of a program. They occur when an error is encountered during program execution.\n",
    "\n",
    "Common exception include:\n",
    "\n",
    "- ZeroDivisionError: Dividing by Zero\n",
    "- FileNotFoundError\n",
    "- ValueError\n",
    "- TypeError"
   ]
  },
  {
   "cell_type": "code",
   "execution_count": 3,
   "id": "ff71ee85",
   "metadata": {},
   "outputs": [
    {
     "name": "stdout",
     "output_type": "stream",
     "text": [
      "name 'b' is not defined\n"
     ]
    }
   ],
   "source": [
    "# Exception try and except block\n",
    "\n",
    "try:\n",
    "    a = b\n",
    "except NameError as e:\n",
    "    print(e)"
   ]
  },
  {
   "cell_type": "code",
   "execution_count": null,
   "id": "9a5dca19",
   "metadata": {},
   "outputs": [
    {
     "name": "stdout",
     "output_type": "stream",
     "text": [
      "division by zero\n"
     ]
    }
   ],
   "source": [
    "try:\n",
    "    result = 1/0\n",
    "except ZeroDivisionError as e:\n",
    "    print(e)"
   ]
  },
  {
   "cell_type": "code",
   "execution_count": 6,
   "id": "ff240147",
   "metadata": {},
   "outputs": [
    {
     "name": "stdout",
     "output_type": "stream",
     "text": [
      "division by zero\n"
     ]
    }
   ],
   "source": [
    "# Main Exception Class\n",
    "\n",
    "try:\n",
    "    result = 1/0\n",
    "except Exception as e:\n",
    "    print(e)"
   ]
  },
  {
   "cell_type": "code",
   "execution_count": 8,
   "id": "3aca7046",
   "metadata": {},
   "outputs": [
    {
     "name": "stdout",
     "output_type": "stream",
     "text": [
      "division by zero\n"
     ]
    }
   ],
   "source": [
    "# Try, Except, Else\n",
    "\n",
    "try:\n",
    "    num = int(input(\"Enter Number: \"))\n",
    "    result = 10/num\n",
    "\n",
    "except Exception as e:\n",
    "    print(e)\n",
    "\n",
    "else:\n",
    "    print(result)"
   ]
  },
  {
   "cell_type": "code",
   "execution_count": 9,
   "id": "002061b9",
   "metadata": {},
   "outputs": [
    {
     "name": "stdout",
     "output_type": "stream",
     "text": [
      "0.8333333333333334\n",
      "Execution Complete\n"
     ]
    }
   ],
   "source": [
    "# Try, Except, Else, Finally\n",
    "\n",
    "try:\n",
    "    num = int(input(\"Enter Number: \"))\n",
    "    result = 10/num\n",
    "\n",
    "except Exception as e:\n",
    "    print(e)\n",
    "\n",
    "else:\n",
    "    print(result)\n",
    "\n",
    "finally:\n",
    "    print(\"Execution Complete\")"
   ]
  },
  {
   "cell_type": "code",
   "execution_count": 4,
   "id": "3824a040",
   "metadata": {},
   "outputs": [
    {
     "name": "stdout",
     "output_type": "stream",
     "text": [
      "Hello I am Shivam Attri\n",
      "I am from Haryana\n",
      "File Closed\n"
     ]
    }
   ],
   "source": [
    "try:\n",
    "    file = open(\"example.txt\", 'r')\n",
    "    content = file.read()  # Fixed: added parentheses to call the read method\n",
    "    print(content)\n",
    "\n",
    "except Exception as e:\n",
    "    print(e)\n",
    "\n",
    "finally:\n",
    "    if 'file' in locals() and not file.closed:  # Fixed: removed parentheses from file.closed\n",
    "        file.close()\n",
    "        print(\"File Closed\")"
   ]
  }
 ],
 "metadata": {
  "kernelspec": {
   "display_name": "Python 3",
   "language": "python",
   "name": "python3"
  },
  "language_info": {
   "codemirror_mode": {
    "name": "ipython",
    "version": 3
   },
   "file_extension": ".py",
   "mimetype": "text/x-python",
   "name": "python",
   "nbconvert_exporter": "python",
   "pygments_lexer": "ipython3",
   "version": "3.12.0"
  }
 },
 "nbformat": 4,
 "nbformat_minor": 5
}
