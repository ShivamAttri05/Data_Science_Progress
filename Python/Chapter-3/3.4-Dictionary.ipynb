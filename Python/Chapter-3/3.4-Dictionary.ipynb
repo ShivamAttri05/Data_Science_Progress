{
 "cells": [
  {
   "cell_type": "markdown",
   "id": "0a5b1d1d",
   "metadata": {},
   "source": [
    "# Dictionary"
   ]
  },
  {
   "cell_type": "markdown",
   "id": "abede800",
   "metadata": {},
   "source": [
    "Dictionary are unordered collection of items. They store data in key-value pairs. Keys must be unique and immutable, while values can be of any type."
   ]
  },
  {
   "cell_type": "code",
   "execution_count": 1,
   "id": "47d38124",
   "metadata": {},
   "outputs": [
    {
     "name": "stdout",
     "output_type": "stream",
     "text": [
      "{}\n",
      "<class 'dict'>\n"
     ]
    }
   ],
   "source": [
    "# Creating Dictionary\n",
    "\n",
    "emptyDictionary = dict()\n",
    "print(emptyDictionary)\n",
    "print(type(emptyDictionary))\n"
   ]
  },
  {
   "cell_type": "code",
   "execution_count": 2,
   "id": "b2811c57",
   "metadata": {},
   "outputs": [
    {
     "name": "stdout",
     "output_type": "stream",
     "text": [
      "<class 'dict'>\n"
     ]
    }
   ],
   "source": [
    "emptyDictionary = {}\n",
    "print(type(emptyDictionary))"
   ]
  },
  {
   "cell_type": "code",
   "execution_count": 3,
   "id": "1a5f0005",
   "metadata": {},
   "outputs": [
    {
     "name": "stdout",
     "output_type": "stream",
     "text": [
      "{'name': 'Shivam', 'college': 'Vaish College', 'age': 19}\n"
     ]
    }
   ],
   "source": [
    "# example of dictionary\n",
    "\n",
    "student = {\n",
    "    \"name\":\"Shivam\",\n",
    "    \"college\":\"Vaish College\",\n",
    "    \"age\":19\n",
    "}\n",
    "print(student)"
   ]
  },
  {
   "cell_type": "code",
   "execution_count": 4,
   "id": "0e9e2a6d",
   "metadata": {},
   "outputs": [
    {
     "name": "stdout",
     "output_type": "stream",
     "text": [
      "{'name': 'Vaish College', 'age': 19}\n"
     ]
    }
   ],
   "source": [
    "# Error Condition\n",
    "\n",
    "student1 = {\n",
    "    \"name\":\"Shivam\",\n",
    "    \"name\":\"Vaish College\",\n",
    "    \"age\":19\n",
    "}\n",
    "print(student1)"
   ]
  },
  {
   "cell_type": "code",
   "execution_count": 5,
   "id": "4b27ef36",
   "metadata": {},
   "outputs": [
    {
     "name": "stdout",
     "output_type": "stream",
     "text": [
      "19\n",
      "Shivam\n"
     ]
    }
   ],
   "source": [
    "student = {\n",
    "    \"name\":\"Shivam\",\n",
    "    \"college\":\"Vaish College\",\n",
    "    \"age\":19\n",
    "}\n",
    "\n",
    "# Accessing Dictionary elements\n",
    "print(student[\"age\"])\n",
    "\n",
    "# Accessing dictionary using get() method\n",
    "print(student.get(\"name\"))"
   ]
  },
  {
   "cell_type": "code",
   "execution_count": 6,
   "id": "ce36fcc4",
   "metadata": {},
   "outputs": [
    {
     "name": "stdout",
     "output_type": "stream",
     "text": [
      "None\n"
     ]
    },
    {
     "ename": "KeyError",
     "evalue": "'lastname'",
     "output_type": "error",
     "traceback": [
      "\u001b[31m---------------------------------------------------------------------------\u001b[39m",
      "\u001b[31mKeyError\u001b[39m                                  Traceback (most recent call last)",
      "\u001b[36mCell\u001b[39m\u001b[36m \u001b[39m\u001b[32mIn[6]\u001b[39m\u001b[32m, line 4\u001b[39m\n\u001b[32m      1\u001b[39m \u001b[38;5;66;03m# What if we search a key which does not exists\u001b[39;00m\n\u001b[32m      3\u001b[39m \u001b[38;5;28mprint\u001b[39m(student.get(\u001b[33m\"\u001b[39m\u001b[33mlastname\u001b[39m\u001b[33m\"\u001b[39m))\n\u001b[32m----> \u001b[39m\u001b[32m4\u001b[39m \u001b[38;5;28mprint\u001b[39m(\u001b[43mstudent\u001b[49m\u001b[43m[\u001b[49m\u001b[33;43m\"\u001b[39;49m\u001b[33;43mlastname\u001b[39;49m\u001b[33;43m\"\u001b[39;49m\u001b[43m]\u001b[49m)\n",
      "\u001b[31mKeyError\u001b[39m: 'lastname'"
     ]
    }
   ],
   "source": [
    "# What if we search a key which does not exists\n",
    "\n",
    "print(student.get(\"lastname\"))\n",
    "print(student[\"lastname\"])\n"
   ]
  },
  {
   "cell_type": "code",
   "execution_count": 7,
   "id": "53bf6963",
   "metadata": {},
   "outputs": [
    {
     "name": "stdout",
     "output_type": "stream",
     "text": [
      "Not Available\n"
     ]
    }
   ],
   "source": [
    "# What if we want an Not Available message when the key we demanded doesnot exists\n",
    "\n",
    "print(student.get(\"lastname\", \"Not Available\"))"
   ]
  },
  {
   "cell_type": "markdown",
   "id": "4897af06",
   "metadata": {},
   "source": [
    "# Modifying Dictionary Elements\n",
    "\n",
    "- Dictionary are mutable, so you can add, update or delete elements"
   ]
  },
  {
   "cell_type": "code",
   "execution_count": 8,
   "id": "6ce675e7",
   "metadata": {},
   "outputs": [
    {
     "name": "stdout",
     "output_type": "stream",
     "text": [
      "{'name': 'Shivam', 'college': 'Vaish College', 'age': 33}\n",
      "{'name': 'Shivam', 'college': 'Vaish College', 'age': 33, 'address': 'India'}\n"
     ]
    }
   ],
   "source": [
    "# Updating the value\n",
    "\n",
    "student[\"age\"]=33\n",
    "print(student)\n",
    "\n",
    "# added a new key and value\n",
    "student[\"address\"]=\"India\"\n",
    "print(student)"
   ]
  },
  {
   "cell_type": "code",
   "execution_count": 9,
   "id": "9ffafe67",
   "metadata": {},
   "outputs": [
    {
     "name": "stdout",
     "output_type": "stream",
     "text": [
      "{'name': 'Shivam', 'age': 33, 'address': 'India'}\n"
     ]
    }
   ],
   "source": [
    "# deleting the key value pair\n",
    "\n",
    "del student[\"college\"]\n",
    "print(student)"
   ]
  },
  {
   "cell_type": "markdown",
   "id": "1643487d",
   "metadata": {},
   "source": [
    "# Dictionary Methods"
   ]
  },
  {
   "cell_type": "code",
   "execution_count": 10,
   "id": "b7042da2",
   "metadata": {},
   "outputs": [
    {
     "name": "stdout",
     "output_type": "stream",
     "text": [
      "dict_keys(['name', 'age', 'address'])\n",
      "dict_values(['Shivam', 33, 'India'])\n"
     ]
    }
   ],
   "source": [
    "keys = student.keys()           # gets all the keys\n",
    "print(keys)\n",
    "\n",
    "values = student.values()       # gets all the values\n",
    "print(values)"
   ]
  },
  {
   "cell_type": "code",
   "execution_count": 11,
   "id": "20da7104",
   "metadata": {},
   "outputs": [
    {
     "name": "stdout",
     "output_type": "stream",
     "text": [
      "dict_items([('name', 'Shivam'), ('age', 33), ('address', 'India')])\n"
     ]
    }
   ],
   "source": [
    "items = student.items()         # get all the key value pair\n",
    "print(items)"
   ]
  },
  {
   "cell_type": "markdown",
   "id": "60367df3",
   "metadata": {},
   "source": [
    "### Shallow Copy"
   ]
  },
  {
   "cell_type": "code",
   "execution_count": 12,
   "id": "bdf079fd",
   "metadata": {},
   "outputs": [
    {
     "name": "stdout",
     "output_type": "stream",
     "text": [
      "{'name': 'Shivam', 'age': 33, 'address': 'India'}\n",
      "{'name': 'Shivam', 'age': 33, 'address': 'India'}\n"
     ]
    }
   ],
   "source": [
    "studentCopy = student\n",
    "\n",
    "print(student)\n",
    "print(studentCopy)"
   ]
  },
  {
   "cell_type": "code",
   "execution_count": 13,
   "id": "85471617",
   "metadata": {},
   "outputs": [
    {
     "name": "stdout",
     "output_type": "stream",
     "text": [
      "{'name': 'Shivam Attri', 'age': 33, 'address': 'India'}\n",
      "{'name': 'Shivam Attri', 'age': 33, 'address': 'India'}\n"
     ]
    }
   ],
   "source": [
    "student[\"name\"] = \"Shivam Attri\"\n",
    "print(student)\n",
    "print(studentCopy)"
   ]
  },
  {
   "cell_type": "code",
   "execution_count": 14,
   "id": "7211f8cc",
   "metadata": {},
   "outputs": [
    {
     "name": "stdout",
     "output_type": "stream",
     "text": [
      "{'name': 'Shivam Attri', 'age': 33, 'address': 'India'}\n",
      "{'name': 'Shivam Attri', 'age': 33, 'address': 'India'}\n"
     ]
    }
   ],
   "source": [
    "studentCopy1 = student.copy() # Shallow Copy\n",
    "print(studentCopy1)\n",
    "print(student)"
   ]
  },
  {
   "cell_type": "code",
   "execution_count": 15,
   "id": "efb2131e",
   "metadata": {},
   "outputs": [
    {
     "name": "stdout",
     "output_type": "stream",
     "text": [
      "{'name': 'Shivam', 'age': 33, 'address': 'India'}\n",
      "{'name': 'Shivam Attri', 'age': 33, 'address': 'India'}\n"
     ]
    }
   ],
   "source": [
    "student[\"name\"] = \"Shivam\"\n",
    "print(student)\n",
    "print(studentCopy1)"
   ]
  },
  {
   "cell_type": "markdown",
   "id": "5ff4ad02",
   "metadata": {},
   "source": [
    "# Iterating Over Dictionary"
   ]
  },
  {
   "cell_type": "code",
   "execution_count": 16,
   "id": "d8ff420f",
   "metadata": {},
   "outputs": [
    {
     "name": "stdout",
     "output_type": "stream",
     "text": [
      "name\n",
      "age\n",
      "address\n",
      "\n",
      "Shivam\n",
      "33\n",
      "India\n"
     ]
    }
   ],
   "source": [
    "# Iterating over keys\n",
    "\n",
    "for key in student.keys():\n",
    "    print(key)\n",
    "\n",
    "print()\n",
    "\n",
    "# Iterating over Values\n",
    "for value in student.values():\n",
    "    print(value)"
   ]
  },
  {
   "cell_type": "code",
   "execution_count": 17,
   "id": "23215863",
   "metadata": {},
   "outputs": [
    {
     "name": "stdout",
     "output_type": "stream",
     "text": [
      "The key is name and its value is Shivam\n",
      "The key is age and its value is 33\n",
      "The key is address and its value is India\n"
     ]
    }
   ],
   "source": [
    "# Iterate over key value pairs\n",
    "for key,value in student.items():\n",
    "    print(f\"The key is {key} and its value is {value}\")"
   ]
  },
  {
   "cell_type": "markdown",
   "id": "32804b02",
   "metadata": {},
   "source": [
    "# Nested Dictionary "
   ]
  },
  {
   "cell_type": "code",
   "execution_count": 18,
   "id": "b301b3ae",
   "metadata": {},
   "outputs": [
    {
     "name": "stdout",
     "output_type": "stream",
     "text": [
      "{'student1': {'name': 'Shivam', 'age': 19}, 'student2': {'name': 'Varun', 'age': 17}}\n"
     ]
    }
   ],
   "source": [
    "student = {\n",
    "    \"student1\" : {\"name\" : \"Shivam\", \"age\": 19},\n",
    "    \"student2\" : {\"name\" : \"Varun\", \"age\": 17}\n",
    "}\n",
    "\n",
    "print(student)"
   ]
  },
  {
   "cell_type": "code",
   "execution_count": 19,
   "id": "330da1dd",
   "metadata": {},
   "outputs": [
    {
     "name": "stdout",
     "output_type": "stream",
     "text": [
      "Varun\n"
     ]
    }
   ],
   "source": [
    "# Access Nested Dictionary Elements\n",
    "\n",
    "print(student[\"student2\"][\"name\"])"
   ]
  },
  {
   "cell_type": "code",
   "execution_count": 20,
   "id": "0e561486",
   "metadata": {},
   "outputs": [
    {
     "name": "stdout",
     "output_type": "stream",
     "text": [
      "student1, {'name': 'Shivam', 'age': 19}\n",
      "name:Shivam\n",
      "age:19\n",
      "student2, {'name': 'Varun', 'age': 17}\n",
      "name:Varun\n",
      "age:17\n"
     ]
    }
   ],
   "source": [
    "# Iterating Over Nested Dictionary\n",
    "\n",
    "for student_id, student_info in student.items():\n",
    "    print(f\"{student_id}, {student_info}\")\n",
    "    for key, value in student_info.items():\n",
    "        print(f\"{key}:{value}\")"
   ]
  },
  {
   "cell_type": "markdown",
   "id": "88cafb2e",
   "metadata": {},
   "source": [
    "## Use Dictionary to count the frequency of elements in the list"
   ]
  },
  {
   "cell_type": "code",
   "execution_count": 21,
   "id": "35101ea7",
   "metadata": {},
   "outputs": [
    {
     "name": "stdout",
     "output_type": "stream",
     "text": [
      "{1: 1, 2: 2, 3: 3, 4: 4}\n"
     ]
    }
   ],
   "source": [
    "numbers = [1,2,2,3,3,3,4,4,4,4]\n",
    "frequency = {}\n",
    "\n",
    "for number in numbers:\n",
    "    if number in frequency:\n",
    "        frequency[number]+=1\n",
    "    else:\n",
    "        frequency[number]=1\n",
    "print(frequency)"
   ]
  }
 ],
 "metadata": {
  "kernelspec": {
   "display_name": "Python 3",
   "language": "python",
   "name": "python3"
  },
  "language_info": {
   "codemirror_mode": {
    "name": "ipython",
    "version": 3
   },
   "file_extension": ".py",
   "mimetype": "text/x-python",
   "name": "python",
   "nbconvert_exporter": "python",
   "pygments_lexer": "ipython3",
   "version": "3.12.0"
  }
 },
 "nbformat": 4,
 "nbformat_minor": 5
}
