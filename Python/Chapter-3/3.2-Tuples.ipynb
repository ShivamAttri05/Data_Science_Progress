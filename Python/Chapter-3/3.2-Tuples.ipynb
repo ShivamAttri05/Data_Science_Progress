{
 "cells": [
  {
   "cell_type": "markdown",
   "id": "9c8786d3",
   "metadata": {},
   "source": [
    "# Tuples"
   ]
  },
  {
   "cell_type": "markdown",
   "id": "fc54ef0c",
   "metadata": {},
   "source": [
    "- Tuples are the ordered collection of items that are immutable. they are similar to lists, but their immutability makes them different. "
   ]
  },
  {
   "cell_type": "code",
   "execution_count": 1,
   "id": "f0faf225",
   "metadata": {},
   "outputs": [
    {
     "name": "stdout",
     "output_type": "stream",
     "text": [
      "()\n",
      "<class 'tuple'>\n"
     ]
    }
   ],
   "source": [
    "# Creating a tuple\n",
    "\n",
    "empty_tuple = ()\n",
    "\n",
    "print(empty_tuple)\n",
    "print(type(empty_tuple))"
   ]
  },
  {
   "cell_type": "code",
   "execution_count": 2,
   "id": "c99ab371",
   "metadata": {},
   "outputs": [
    {
     "name": "stdout",
     "output_type": "stream",
     "text": [
      "<class 'list'>\n",
      "<class 'tuple'>\n"
     ]
    }
   ],
   "source": [
    "lst = list()\n",
    "print(type(lst))\n",
    "tpl = tuple()\n",
    "print(type(tpl))"
   ]
  },
  {
   "cell_type": "code",
   "execution_count": 3,
   "id": "72f2338f",
   "metadata": {},
   "outputs": [
    {
     "name": "stdout",
     "output_type": "stream",
     "text": [
      "<class 'tuple'>\n"
     ]
    }
   ],
   "source": [
    "number = tuple([1,2,3,4,5])\n",
    "print(type(number))"
   ]
  },
  {
   "cell_type": "code",
   "execution_count": 4,
   "id": "5dfb119b",
   "metadata": {},
   "outputs": [
    {
     "name": "stdout",
     "output_type": "stream",
     "text": [
      "<class 'tuple'>\n"
     ]
    }
   ],
   "source": [
    "mixed_tuple = (1, \"Hello\", 3.24, True)\n",
    "print(type(mixed_tuple))"
   ]
  },
  {
   "cell_type": "markdown",
   "id": "bad5a879",
   "metadata": {},
   "source": [
    "# Tuple Operations"
   ]
  },
  {
   "cell_type": "code",
   "execution_count": 5,
   "id": "b01fef3b",
   "metadata": {},
   "outputs": [
    {
     "name": "stdout",
     "output_type": "stream",
     "text": [
      "(1, 2, 3, 4, 5, 1, 'Hello', 3.24, True)\n"
     ]
    }
   ],
   "source": [
    "# Concatenation Operation\n",
    "\n",
    "numbers = number + mixed_tuple\n",
    "print(numbers)"
   ]
  },
  {
   "cell_type": "code",
   "execution_count": 6,
   "id": "7bb83668",
   "metadata": {},
   "outputs": [
    {
     "data": {
      "text/plain": [
       "(1, 'Hello', 3.24, True, 1, 'Hello', 3.24, True, 1, 'Hello', 3.24, True)"
      ]
     },
     "execution_count": 6,
     "metadata": {},
     "output_type": "execute_result"
    }
   ],
   "source": [
    "# Multiplication Operation\n",
    "\n",
    "mixed_tuple * 3"
   ]
  },
  {
   "cell_type": "markdown",
   "id": "5bff2984",
   "metadata": {},
   "source": [
    "# Immutable nature of tuple\n",
    "- It means elements cannot be changed once assigned"
   ]
  },
  {
   "cell_type": "code",
   "execution_count": 7,
   "id": "2be3df07",
   "metadata": {},
   "outputs": [
    {
     "name": "stdout",
     "output_type": "stream",
     "text": [
      "<class 'tuple'>\n",
      "World\n"
     ]
    }
   ],
   "source": [
    "tpl = (\"Hello\", \"World\", 1, 2, 3)\n",
    "\n",
    "print(type(tpl))\n",
    "print(tpl[1])"
   ]
  },
  {
   "cell_type": "code",
   "execution_count": 8,
   "id": "80dc912c",
   "metadata": {},
   "outputs": [
    {
     "ename": "TypeError",
     "evalue": "'tuple' object does not support item assignment",
     "output_type": "error",
     "traceback": [
      "\u001b[31m---------------------------------------------------------------------------\u001b[39m",
      "\u001b[31mTypeError\u001b[39m                                 Traceback (most recent call last)",
      "\u001b[36mCell\u001b[39m\u001b[36m \u001b[39m\u001b[32mIn[8]\u001b[39m\u001b[32m, line 1\u001b[39m\n\u001b[32m----> \u001b[39m\u001b[32m1\u001b[39m \u001b[43mtpl\u001b[49m\u001b[43m[\u001b[49m\u001b[32;43m1\u001b[39;49m\u001b[43m]\u001b[49m = \u001b[33m\"\u001b[39m\u001b[33mShivam\u001b[39m\u001b[33m\"\u001b[39m\n",
      "\u001b[31mTypeError\u001b[39m: 'tuple' object does not support item assignment"
     ]
    }
   ],
   "source": [
    "tpl[1] = \"Shivam\""
   ]
  },
  {
   "cell_type": "markdown",
   "id": "62bd4c21",
   "metadata": {},
   "source": [
    "# Tuple Methods"
   ]
  },
  {
   "cell_type": "code",
   "execution_count": 9,
   "id": "d8f5ee83",
   "metadata": {},
   "outputs": [
    {
     "name": "stdout",
     "output_type": "stream",
     "text": [
      "3\n"
     ]
    }
   ],
   "source": [
    "number = (1,2,3,4,5,1,6,1)\n",
    "print(number.count(1)) # The count is used to check that how many number of times the specified element is present in the tuple."
   ]
  },
  {
   "cell_type": "code",
   "execution_count": 10,
   "id": "4d67f5f1",
   "metadata": {},
   "outputs": [
    {
     "name": "stdout",
     "output_type": "stream",
     "text": [
      "1\n"
     ]
    }
   ],
   "source": [
    "print(number.index(2)) # It returns the first index/position of the value"
   ]
  },
  {
   "cell_type": "markdown",
   "id": "d9895718",
   "metadata": {},
   "source": [
    "# Packing and Unpacking tuple"
   ]
  },
  {
   "cell_type": "code",
   "execution_count": 11,
   "id": "d6cc5313",
   "metadata": {},
   "outputs": [
    {
     "name": "stdout",
     "output_type": "stream",
     "text": [
      "(1, 'Hello', 3.14)\n"
     ]
    }
   ],
   "source": [
    "packedTuple = 1, \"Hello\", 3.14\n",
    "print(packedTuple)"
   ]
  },
  {
   "cell_type": "code",
   "execution_count": 12,
   "id": "b93178f0",
   "metadata": {},
   "outputs": [
    {
     "name": "stdout",
     "output_type": "stream",
     "text": [
      "1\n",
      "Hello\n",
      "3.14\n"
     ]
    }
   ],
   "source": [
    "# Unpacking\n",
    "\n",
    "a, b, c = packedTuple\n",
    "print(a)\n",
    "print(b)\n",
    "print(c)"
   ]
  },
  {
   "cell_type": "code",
   "execution_count": 13,
   "id": "55cd7868",
   "metadata": {},
   "outputs": [
    {
     "name": "stdout",
     "output_type": "stream",
     "text": [
      "1\n",
      "[2, 3, 4, 5, 6, 7, 8, 9]\n",
      "10\n"
     ]
    }
   ],
   "source": [
    "# Unpacking with *\n",
    "\n",
    "number = (1, 2, 3, 4, 5, 6, 7, 8, 9, 10)\n",
    "first, *middle, last = number\n",
    "print(first)\n",
    "print(middle)\n",
    "print(last)"
   ]
  },
  {
   "cell_type": "code",
   "execution_count": 14,
   "id": "d2b941d9",
   "metadata": {},
   "outputs": [
    {
     "name": "stdout",
     "output_type": "stream",
     "text": [
      "<class 'list'>\n"
     ]
    }
   ],
   "source": [
    "print(type(middle))"
   ]
  },
  {
   "cell_type": "markdown",
   "id": "11676d65",
   "metadata": {},
   "source": [
    "# Nested Tuple"
   ]
  },
  {
   "cell_type": "code",
   "execution_count": 15,
   "id": "b596e5f5",
   "metadata": {},
   "outputs": [
    {
     "data": {
      "text/plain": [
       "[1, 2, 3, 4, 5]"
      ]
     },
     "execution_count": 15,
     "metadata": {},
     "output_type": "execute_result"
    }
   ],
   "source": [
    "# Nested List\n",
    "lst = [[1, 2, 3, 4, 5], [\"Hello\", \"Shivam\", 3.14]]\n",
    "\n",
    "lst[0]"
   ]
  },
  {
   "cell_type": "code",
   "execution_count": 16,
   "id": "5e2a49f8",
   "metadata": {},
   "outputs": [
    {
     "data": {
      "text/plain": [
       "4"
      ]
     },
     "execution_count": 16,
     "metadata": {},
     "output_type": "execute_result"
    }
   ],
   "source": [
    "lst[0][3]"
   ]
  },
  {
   "cell_type": "code",
   "execution_count": 17,
   "id": "402a6c36",
   "metadata": {},
   "outputs": [
    {
     "data": {
      "text/plain": [
       "(1, 2, 3, 4, 5)"
      ]
     },
     "execution_count": 17,
     "metadata": {},
     "output_type": "execute_result"
    }
   ],
   "source": [
    "# Nested Tuple\n",
    "tpl = ((1, 2, 3, 4, 5), (\"Hello\", \"Shivam\", 3.14))\n",
    "\n",
    "tpl[0]"
   ]
  },
  {
   "cell_type": "markdown",
   "id": "0ce0060f",
   "metadata": {},
   "source": [
    "# Iterating Over Nested Tuple"
   ]
  },
  {
   "cell_type": "code",
   "execution_count": 18,
   "id": "0788a37e",
   "metadata": {},
   "outputs": [
    {
     "name": "stdout",
     "output_type": "stream",
     "text": [
      "1 2 3 4 5 \n",
      "Hello Shivam 3.14 \n"
     ]
    }
   ],
   "source": [
    "for subTuple in tpl:\n",
    "    for item in subTuple:\n",
    "        print(item, end=\" \")\n",
    "    print()"
   ]
  }
 ],
 "metadata": {
  "kernelspec": {
   "display_name": "Python 3",
   "language": "python",
   "name": "python3"
  },
  "language_info": {
   "codemirror_mode": {
    "name": "ipython",
    "version": 3
   },
   "file_extension": ".py",
   "mimetype": "text/x-python",
   "name": "python",
   "nbconvert_exporter": "python",
   "pygments_lexer": "ipython3",
   "version": "3.12.0"
  }
 },
 "nbformat": 4,
 "nbformat_minor": 5
}
