{
 "cells": [
  {
   "cell_type": "markdown",
   "id": "852746d4",
   "metadata": {},
   "source": [
    "## Abstraction\n",
    "\n",
    "Abstraction is the concept of hiding the complex implementation details and showing only the necessary features of an object. This helps in reducing programming complexity and effort."
   ]
  },
  {
   "cell_type": "code",
   "execution_count": 5,
   "id": "8da8a32a",
   "metadata": {},
   "outputs": [
    {
     "name": "stdout",
     "output_type": "stream",
     "text": [
      "Car Engine Started\n"
     ]
    }
   ],
   "source": [
    "from abc import ABC, abstractmethod\n",
    "\n",
    "## Abstract Class\n",
    "\n",
    "class Vehical(ABC):\n",
    "    def drive(self):\n",
    "        print(\"The vehicle is used for driving\")\n",
    "\n",
    "    @abstractmethod\n",
    "    def startEngine(self):\n",
    "        pass\n",
    "\n",
    "class Car(Vehical):\n",
    "    def startEngine(self):\n",
    "        print(\"Car Engine Started\")\n",
    "\n",
    "def OperateVehical(vehical):\n",
    "    vehical.startEngine()\n",
    "\n",
    "car = Car()\n",
    "OperateVehical(car)"
   ]
  },
  {
   "cell_type": "code",
   "execution_count": null,
   "id": "ed7657ce",
   "metadata": {},
   "outputs": [],
   "source": []
  }
 ],
 "metadata": {
  "kernelspec": {
   "display_name": "Python 3",
   "language": "python",
   "name": "python3"
  },
  "language_info": {
   "codemirror_mode": {
    "name": "ipython",
    "version": 3
   },
   "file_extension": ".py",
   "mimetype": "text/x-python",
   "name": "python",
   "nbconvert_exporter": "python",
   "pygments_lexer": "ipython3",
   "version": "3.12.0"
  }
 },
 "nbformat": 4,
 "nbformat_minor": 5
}
