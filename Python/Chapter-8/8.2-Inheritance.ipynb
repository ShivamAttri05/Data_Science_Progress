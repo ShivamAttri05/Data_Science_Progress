{
 "cells": [
  {
   "cell_type": "markdown",
   "id": "6c21a637",
   "metadata": {},
   "source": [
    "## Inheritance in Python\n",
    "\n",
    "Inheritance is a fundamental concept in Object Oriented Programming. This lesson covers single ineritance and multiple inheritance, demonstrating how to create and use them in Python."
   ]
  },
  {
   "cell_type": "markdown",
   "id": "4fe5ce7a",
   "metadata": {},
   "source": [
    "- Inheritance is a mechanism in object-oriented programming that allows one class (the child or derived class) to inherit attributes and methods from another class (the parent or base class).\n",
    "- This promotes code reuse and establishes a relationship between the parent and child classes."
   ]
  },
  {
   "cell_type": "code",
   "execution_count": null,
   "id": "d55d408b",
   "metadata": {},
   "outputs": [
    {
     "name": "stdout",
     "output_type": "stream",
     "text": [
      "The person will drive the electric car.\n",
      "None\n"
     ]
    }
   ],
   "source": [
    "# Basic example of inheritance in Python (Single Inheritance)\n",
    "\n",
    "class Car:\n",
    "    def __init__(self, windows, doors, enginetype):\n",
    "        self.windows = windows\n",
    "        self.doors = doors\n",
    "        self.enginetype = enginetype\n",
    "\n",
    "    def drive(self):\n",
    "        print(f\"The person will drive the {self.enginetype} car.\")\n",
    "\n",
    "car1 = Car(4, 4, \"electric\")\n",
    "print(car1.drive())"
   ]
  },
  {
   "cell_type": "code",
   "execution_count": 3,
   "id": "2ca95c7b",
   "metadata": {},
   "outputs": [],
   "source": [
    "class Tesla(Car):\n",
    "    def __init__(self, windows, doors, enginetype, is_selfdriving):\n",
    "        super().__init__(windows, doors, enginetype)\n",
    "        self.is_selfdriving =  is_selfdriving\n",
    "    \n",
    "    def selfdriving(self):\n",
    "        print(f\"Tesla Support Self Driving: {self.is_selfdriving}\")"
   ]
  },
  {
   "cell_type": "code",
   "execution_count": 5,
   "id": "f95bb1a2",
   "metadata": {},
   "outputs": [
    {
     "name": "stdout",
     "output_type": "stream",
     "text": [
      "Tesla Support Self Driving: True\n",
      "The person will drive the Electric car.\n"
     ]
    }
   ],
   "source": [
    "TeslaCar = Tesla(4, 4, \"Electric\", True)\n",
    "TeslaCar.selfdriving()\n",
    "TeslaCar.drive()"
   ]
  },
  {
   "cell_type": "code",
   "execution_count": 7,
   "id": "0b1cf8f1",
   "metadata": {},
   "outputs": [
    {
     "name": "stdout",
     "output_type": "stream",
     "text": [
      "12MP Camera takes a photo\n",
      "Calling 987-654-3210 from 123-456-7890\n",
      "TechBrand browsing internet\n"
     ]
    }
   ],
   "source": [
    "# Multiple Inheritance\n",
    "## When a Class inherits from more than one class\n",
    "\n",
    "class Camera:\n",
    "    def __init__(self, camera_model):\n",
    "        self.camera_model = camera_model\n",
    "\n",
    "    def take_photo(self):\n",
    "        return f\"{self.camera_model} takes a photo\"\n",
    "    \n",
    "class Phone:\n",
    "    def __init__(self, phone_number):\n",
    "        self.phone_number = phone_number\n",
    "\n",
    "    def make_call(self, number):\n",
    "        return f\"Calling {number} from {self.phone_number}\"\n",
    "\n",
    "class Smartphone(Camera, Phone):\n",
    "    def __init__(self, camera_model, phone_number, brand):\n",
    "        Camera.__init__(self, camera_model)\n",
    "        Phone.__init__(self, phone_number)\n",
    "        self.brand = brand\n",
    "\n",
    "    def browse_internet(self):\n",
    "        return f\"{self.brand} browsing internet\"\n",
    "\n",
    "device = Smartphone(\"12MP Camera\", \"123-456-7890\", \"TechBrand\")\n",
    "print(device.take_photo())\n",
    "print(device.make_call(\"987-654-3210\"))\n",
    "print(device.browse_internet())"
   ]
  }
 ],
 "metadata": {
  "kernelspec": {
   "display_name": "Python 3",
   "language": "python",
   "name": "python3"
  },
  "language_info": {
   "codemirror_mode": {
    "name": "ipython",
    "version": 3
   },
   "file_extension": ".py",
   "mimetype": "text/x-python",
   "name": "python",
   "nbconvert_exporter": "python",
   "pygments_lexer": "ipython3",
   "version": "3.12.0"
  }
 },
 "nbformat": 4,
 "nbformat_minor": 5
}
