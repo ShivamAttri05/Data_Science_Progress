{
 "cells": [
  {
   "cell_type": "markdown",
   "id": "1bf66f97",
   "metadata": {},
   "source": [
    "## Classes and Objects\n",
    "\n",
    "Object Oriented Programming (OOP) is a programming paradigm that uses \"Objects\" to design application and computer programs. OOP allows for modeling real-world scenarios using classes and objects. This lesson covers basics of creating classes and objects, including instance variable and methods."
   ]
  },
  {
   "cell_type": "code",
   "execution_count": 2,
   "id": "8156a152",
   "metadata": {},
   "outputs": [
    {
     "name": "stdout",
     "output_type": "stream",
     "text": [
      "<class '__main__.Car'>\n"
     ]
    }
   ],
   "source": [
    "# A class is a blue print for creating objects. Attributes, methods\n",
    "\n",
    "class Car:\n",
    "    pass\n",
    "\n",
    "audi = Car()\n",
    "bmw = Car()\n",
    "\n",
    "print(type(bmw))"
   ]
  },
  {
   "cell_type": "code",
   "execution_count": 3,
   "id": "a1358a38",
   "metadata": {},
   "outputs": [
    {
     "name": "stdout",
     "output_type": "stream",
     "text": [
      "<__main__.Car object at 0x0000021A25F82180>\n"
     ]
    }
   ],
   "source": [
    "print(audi)"
   ]
  },
  {
   "cell_type": "code",
   "execution_count": null,
   "id": "cbf1ef4d",
   "metadata": {},
   "outputs": [
    {
     "name": "stdout",
     "output_type": "stream",
     "text": [
      "4\n"
     ]
    }
   ],
   "source": [
    "# This is not a proper way\n",
    "\n",
    "audi.windows = 4\n",
    "print(audi.windows)"
   ]
  },
  {
   "cell_type": "code",
   "execution_count": null,
   "id": "53336546",
   "metadata": {},
   "outputs": [
    {
     "name": "stdout",
     "output_type": "stream",
     "text": [
      "<__main__.Dog object at 0x0000021A25FFF530>\n",
      "Buddy\n",
      "3\n"
     ]
    }
   ],
   "source": [
    "# Instance Varible\n",
    "\n",
    "class Dog:\n",
    "    # Constructor\n",
    "    def __init__(self, name, age):\n",
    "        self.name =  name\n",
    "        self .age = age\n",
    "\n",
    "dog1 = Dog(\"Buddy\", 3)\n",
    "print(dog1)\n",
    "print(dog1.name)\n",
    "print(dog1.age)"
   ]
  },
  {
   "cell_type": "code",
   "execution_count": 7,
   "id": "fb6a9c87",
   "metadata": {},
   "outputs": [
    {
     "name": "stdout",
     "output_type": "stream",
     "text": [
      "Buddy braks\n"
     ]
    }
   ],
   "source": [
    "# Instance Methods\n",
    "\n",
    "class Dog:\n",
    "    def __init__(self, name, age):\n",
    "        self.name = name\n",
    "        self.age = age\n",
    "\n",
    "    def bark(self):\n",
    "        print(f\"{self.name} braks\")\n",
    "\n",
    "dog1 = Dog(\"Buddy\", 12)\n",
    "dog1.bark()"
   ]
  },
  {
   "cell_type": "code",
   "execution_count": 10,
   "id": "99748b29",
   "metadata": {},
   "outputs": [
    {
     "name": "stdout",
     "output_type": "stream",
     "text": [
      "3200 is deposited. Now the current balance is 3200\n",
      "The current balance is 3200\n",
      "2300 is credited. Now the current balance is 900\n",
      "The current balance is 900\n"
     ]
    }
   ],
   "source": [
    "# Modeling a Bank Account\n",
    "\n",
    "class BankAccount:\n",
    "    def __init__(self, owner, balance = 0):\n",
    "        self.owner = owner\n",
    "        self.balance = balance\n",
    "\n",
    "    def deposite(self, amount):\n",
    "        self.balance += amount\n",
    "        print(f\"{amount} is deposited. Now the current balance is {self.balance}\")\n",
    "    \n",
    "    def withdraw(self, amount):\n",
    "        if amount>self.balance:\n",
    "            print(\"Insufficient Balance\")\n",
    "        else:\n",
    "            self.balance -= amount\n",
    "            print(f\"{amount} is credited. Now the current balance is {self.balance}\")\n",
    "\n",
    "    def getBalance(self):\n",
    "        print(f\"The current balance is {self.balance}\")\n",
    "\n",
    "Account = BankAccount(\"Shivam\")\n",
    "\n",
    "Account.deposite(3200)\n",
    "Account.getBalance()\n",
    "Account.withdraw(2300)\n",
    "Account.getBalance()"
   ]
  },
  {
   "cell_type": "markdown",
   "id": "c3dcafbe",
   "metadata": {},
   "source": [
    "### Conclusion\n",
    "\n",
    "OOP allow you to model real world scenarios using classes and objects."
   ]
  }
 ],
 "metadata": {
  "kernelspec": {
   "display_name": "Python 3",
   "language": "python",
   "name": "python3"
  },
  "language_info": {
   "codemirror_mode": {
    "name": "ipython",
    "version": 3
   },
   "file_extension": ".py",
   "mimetype": "text/x-python",
   "name": "python",
   "nbconvert_exporter": "python",
   "pygments_lexer": "ipython3",
   "version": "3.12.0"
  }
 },
 "nbformat": 4,
 "nbformat_minor": 5
}
