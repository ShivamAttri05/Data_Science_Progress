{
 "cells": [
  {
   "cell_type": "markdown",
   "id": "7a250933",
   "metadata": {},
   "source": [
    "## Polymorphism\n",
    "\n",
    "Polymorphism is a foundational concept in programming that allows entities like functions, methods or operators to behave differently based on the type of data they are handling."
   ]
  },
  {
   "cell_type": "code",
   "execution_count": 1,
   "id": "dd2b5656",
   "metadata": {},
   "outputs": [
    {
     "name": "stdout",
     "output_type": "stream",
     "text": [
      "5\n",
      "3\n",
      "3\n",
      "z\n"
     ]
    }
   ],
   "source": [
    "# Polymorphism in Built-in Functions\n",
    "print(len(\"Hello\"))  # String length\n",
    "print(len([1, 2, 3]))  # List length\n",
    "\n",
    "print(max(1, 3, 2))  # Maximum of integers\n",
    "print(max(\"a\", \"z\", \"m\"))  # Maximum in strings"
   ]
  },
  {
   "cell_type": "code",
   "execution_count": 2,
   "id": "f404f7af",
   "metadata": {},
   "outputs": [
    {
     "name": "stdout",
     "output_type": "stream",
     "text": [
      "7\n",
      "Hello, World!\n",
      "[1, 2, 3, 4]\n"
     ]
    }
   ],
   "source": [
    "# Polymorphism in Functions\n",
    "def add(a, b):\n",
    "    return a + b\n",
    "\n",
    "print(add(3, 4))           # Integer addition\n",
    "print(add(\"Hello, \", \"World!\"))  # String concatenation\n",
    "print(add([1, 2], [3, 4])) # List concatenation"
   ]
  },
  {
   "cell_type": "code",
   "execution_count": 3,
   "id": "58897bc0",
   "metadata": {},
   "outputs": [
    {
     "name": "stdout",
     "output_type": "stream",
     "text": [
      "15\n",
      "Hello World!\n",
      "[1, 2, 3, 4]\n"
     ]
    }
   ],
   "source": [
    "# Polymorphism in Operators\n",
    "\n",
    "# Operator Overloading\n",
    "    # In Python, operators like + behave polymorphically, performing addition, concatenation or merging based on the data type.\n",
    "\n",
    "print(5 + 10)  # Integer addition\n",
    "print(\"Hello \" + \"World!\")  # String concatenation\n",
    "print([1, 2] + [3, 4])  # List concatenation"
   ]
  },
  {
   "cell_type": "code",
   "execution_count": 4,
   "id": "98a39123",
   "metadata": {},
   "outputs": [
    {
     "name": "stdout",
     "output_type": "stream",
     "text": [
      "Area: 6\n",
      "Area: 78.5\n"
     ]
    }
   ],
   "source": [
    "# Polymorphism in OOPs\n",
    "\n",
    "class Shape:\n",
    "    def area(self):\n",
    "        return \"Undefined\"\n",
    "\n",
    "class Rectangle(Shape):\n",
    "    def __init__(self, length, width):\n",
    "        self.length = length\n",
    "        self.width = width\n",
    "\n",
    "    def area(self):\n",
    "        return self.length * self.width\n",
    "\n",
    "class Circle(Shape):\n",
    "    def __init__(self, radius):\n",
    "        self.radius = radius\n",
    "\n",
    "    def area(self):\n",
    "        return 3.14 * self.radius ** 2\n",
    "\n",
    "shapes = [Rectangle(2, 3), Circle(5)]\n",
    "for shape in shapes:\n",
    "    print(f\"Area: {shape.area()}\")"
   ]
  },
  {
   "cell_type": "markdown",
   "id": "4243c50a",
   "metadata": {},
   "source": [
    "## Polymorphism with Abstract Base Classes\n",
    "\n",
    "- Abstract Base Classes (ABCs) are used to define common methods for a group of related objects. They can enforce that derived classes implemented particularly methods, promoting consistency acrosss different implementations."
   ]
  },
  {
   "cell_type": "code",
   "execution_count": 5,
   "id": "98589306",
   "metadata": {},
   "outputs": [
    {
     "name": "stdout",
     "output_type": "stream",
     "text": [
      "Car Engine Started\n"
     ]
    }
   ],
   "source": [
    "from abc import ABC, abstractmethod\n",
    "\n",
    "# Define an abstract class\n",
    "class Vehicle(ABC):\n",
    "    @abstractmethod\n",
    "    def startEngine(self):\n",
    "        pass\n",
    "\n",
    "class Car(Vehicle):\n",
    "    def startEngine(self):\n",
    "        return \"Car Engine Started\"\n",
    "    \n",
    "class MotorCycle(Vehicle):\n",
    "    def startEngine(self):\n",
    "        return \"Bike Engine Started\"\n",
    "    \n",
    "# Objects of Car and MotorCycle\n",
    "car = Car()\n",
    "motorCycle = MotorCycle()\n",
    "\n",
    "# Function to start vehicle engine\n",
    "def start_vehicle(vehicle):\n",
    "    print(vehicle.startEngine())\n",
    "\n",
    "# Call the function with car\n",
    "start_vehicle(car)\n"
   ]
  }
 ],
 "metadata": {
  "kernelspec": {
   "display_name": "Python 3",
   "language": "python",
   "name": "python3"
  },
  "language_info": {
   "codemirror_mode": {
    "name": "ipython",
    "version": 3
   },
   "file_extension": ".py",
   "mimetype": "text/x-python",
   "name": "python",
   "nbconvert_exporter": "python",
   "pygments_lexer": "ipython3",
   "version": "3.12.0"
  }
 },
 "nbformat": 4,
 "nbformat_minor": 5
}
