{
 "cells": [
  {
   "cell_type": "markdown",
   "id": "1f040075",
   "metadata": {},
   "source": [
    "## Encapsulations\n",
    "Encapsulations is the concept of wraping data (variable) and methods (functions) together as a single unit. It restrict direct access to some of the object's components, which is a means of preventing accidental interference and misuse of the data."
   ]
  },
  {
   "cell_type": "code",
   "execution_count": null,
   "id": "9dc7a9cf",
   "metadata": {},
   "outputs": [],
   "source": [
    "# Public Protected and Private Variable\n",
    "\n",
    "class Person:\n",
    "    def __init__(self, name, age):\n",
    "        self.name = name    # Public Variable\n",
    "        self.age = age      # Public Variable\n",
    "\n",
    "person = Person(\"Shivam\", 19)"
   ]
  },
  {
   "cell_type": "code",
   "execution_count": 2,
   "id": "08936bca",
   "metadata": {},
   "outputs": [
    {
     "ename": "AttributeError",
     "evalue": "'Person' object has no attribute '__name'",
     "output_type": "error",
     "traceback": [
      "\u001b[31m---------------------------------------------------------------------------\u001b[39m",
      "\u001b[31mAttributeError\u001b[39m                            Traceback (most recent call last)",
      "\u001b[36mCell\u001b[39m\u001b[36m \u001b[39m\u001b[32mIn[2]\u001b[39m\u001b[32m, line 10\u001b[39m\n\u001b[32m      7\u001b[39m         \u001b[38;5;28;01mreturn\u001b[39;00m person.__name\n\u001b[32m      9\u001b[39m person = Person(\u001b[33m\"\u001b[39m\u001b[33mShivam\u001b[39m\u001b[33m\"\u001b[39m, \u001b[32m19\u001b[39m)\n\u001b[32m---> \u001b[39m\u001b[32m10\u001b[39m \u001b[43mgetName\u001b[49m\u001b[43m(\u001b[49m\u001b[43mperson\u001b[49m\u001b[43m)\u001b[49m\n",
      "\u001b[36mCell\u001b[39m\u001b[36m \u001b[39m\u001b[32mIn[2]\u001b[39m\u001b[32m, line 7\u001b[39m, in \u001b[36mgetName\u001b[39m\u001b[34m(person)\u001b[39m\n\u001b[32m      6\u001b[39m \u001b[38;5;28;01mdef\u001b[39;00m\u001b[38;5;250m \u001b[39m\u001b[34mgetName\u001b[39m(person):\n\u001b[32m----> \u001b[39m\u001b[32m7\u001b[39m         \u001b[38;5;28;01mreturn\u001b[39;00m \u001b[43mperson\u001b[49m\u001b[43m.\u001b[49m\u001b[43m__name\u001b[49m\n",
      "\u001b[31mAttributeError\u001b[39m: 'Person' object has no attribute '__name'"
     ]
    }
   ],
   "source": [
    "class Person:\n",
    "    def __init__(self, name, age):\n",
    "        self.__name = name    # Private Variable\n",
    "        self.__age = age      # Private Variable\n",
    "        \n",
    "def getName(person):\n",
    "        return person.__name\n",
    "\n",
    "person = Person(\"Shivam\", 19)\n",
    "getName(person)"
   ]
  },
  {
   "cell_type": "markdown",
   "id": "c8551105",
   "metadata": {},
   "source": [
    "The above error occur because a private variable can't access outside the class"
   ]
  },
  {
   "cell_type": "code",
   "execution_count": 4,
   "id": "2fac6ceb",
   "metadata": {},
   "outputs": [
    {
     "name": "stdout",
     "output_type": "stream",
     "text": [
      "Shivam\n"
     ]
    }
   ],
   "source": [
    "class Person:\n",
    "    def __init__(self, name, age):\n",
    "        self._name = name    # Protected Variable\n",
    "        self._age = age      # Protected Variable\n",
    "        \n",
    "class Employee(Person):\n",
    "     def __init__(self, name, age, gender):\n",
    "          super().__init__(name, age)\n",
    "\n",
    "employee = Employee(\"Shivam\", 19, \"Male\")\n",
    "print(employee._name)"
   ]
  },
  {
   "cell_type": "code",
   "execution_count": 3,
   "id": "2b3f1718",
   "metadata": {},
   "outputs": [
    {
     "name": "stdout",
     "output_type": "stream",
     "text": [
      "Shivam\n",
      "Varun\n",
      "19\n",
      "32\n"
     ]
    }
   ],
   "source": [
    "# Encapsulation - Getter and Setter Method\n",
    "\n",
    "class Person:\n",
    "    def __init__(self, name, age):\n",
    "        self.__name = name\n",
    "        self.__age = age\n",
    "\n",
    "    # Getter Method\n",
    "    def getName(self):\n",
    "        return self.__name\n",
    "    \n",
    "    def setName(self, name):\n",
    "        self.__name = name\n",
    "\n",
    "    def getAge(self):\n",
    "        return self.__age\n",
    "    \n",
    "    def setAge(self, age):\n",
    "        if age > 0:\n",
    "            self.__age = age\n",
    "        else:\n",
    "            print(\"Age can't be negative\")\n",
    "\n",
    "person = Person(\"Shivam\", 19)\n",
    "\n",
    "print(person.getName())\n",
    "person.setName(\"Varun\")\n",
    "print(person.getName())\n",
    "\n",
    "print(person.getAge())\n",
    "person.setAge(32)\n",
    "print(person.getAge())"
   ]
  }
 ],
 "metadata": {
  "kernelspec": {
   "display_name": "Python 3",
   "language": "python",
   "name": "python3"
  },
  "language_info": {
   "codemirror_mode": {
    "name": "ipython",
    "version": 3
   },
   "file_extension": ".py",
   "mimetype": "text/x-python",
   "name": "python",
   "nbconvert_exporter": "python",
   "pygments_lexer": "ipython3",
   "version": "3.12.0"
  }
 },
 "nbformat": 4,
 "nbformat_minor": 5
}
