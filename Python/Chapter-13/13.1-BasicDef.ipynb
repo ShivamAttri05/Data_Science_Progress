{
 "cells": [
  {
   "cell_type": "markdown",
   "id": "0255a000",
   "metadata": {},
   "source": [
    "## Program\n",
    "\n",
    "A program is a sequence of instruction written in a programming language.\n",
    "\n",
    "Ex: Google Chrome"
   ]
  },
  {
   "cell_type": "markdown",
   "id": "381906cc",
   "metadata": {},
   "source": [
    "## Process\n",
    "\n",
    "A Process is simply an instance of a program that is being executed.\n",
    "\n",
    "- It works along with OS\n",
    "\n",
    "### Separate memory space\n",
    "- One process cannot corrupt another process\n",
    "\n",
    "#### Disadvantage\n",
    "- Increases Execution Time to switch between processes"
   ]
  },
  {
   "cell_type": "markdown",
   "id": "93a16da4",
   "metadata": {},
   "source": [
    "## Thread\n",
    "\n",
    "A thread is a unit of execution within a process\n",
    "\n",
    "### Types of Thread\n",
    "- Single Threaded Process\n",
    "- Multiple Threaded Process "
   ]
  }
 ],
 "metadata": {
  "kernelspec": {
   "display_name": "Python 3",
   "language": "python",
   "name": "python3"
  },
  "language_info": {
   "name": "python",
   "version": "3.12.0"
  }
 },
 "nbformat": 4,
 "nbformat_minor": 5
}
