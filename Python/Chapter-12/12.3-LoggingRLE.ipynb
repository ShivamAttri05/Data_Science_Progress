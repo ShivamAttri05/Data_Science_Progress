{
 "cells": [
  {
   "cell_type": "code",
   "execution_count": 1,
   "id": "8087444d",
   "metadata": {},
   "outputs": [],
   "source": [
    "import logging"
   ]
  },
  {
   "cell_type": "code",
   "execution_count": 9,
   "id": "e9fbbaac",
   "metadata": {},
   "outputs": [
    {
     "name": "stderr",
     "output_type": "stream",
     "text": [
      "2025-20-07/01/25 18:20:14 - Arithmetic - DEBUG - adding 10 + 5 = 15\n",
      "2025-20-07/01/25 18:20:14 - Arithmetic - DEBUG - subtracting 10 - 5 = 5\n",
      "2025-20-07/01/25 18:20:14 - Arithmetic - DEBUG - multiplying 10 * 10 = 100\n",
      "2025-20-07/01/25 18:20:14 - Arithmetic - ERROR - Division by zero error\n"
     ]
    }
   ],
   "source": [
    "import logging\n",
    "\n",
    "# Basic logging configuration\n",
    "logging.basicConfig(\n",
    "    level=logging.DEBUG,\n",
    "    format='%(asctime)s - %(name)s - %(levelname)s - %(message)s',\n",
    "    datefmt='%Y-%m-%d %H:%M:%S',\n",
    "    handlers=[\n",
    "        logging.FileHandler(\"app1.log\"),\n",
    "        logging.StreamHandler()\n",
    "    ]\n",
    ")\n",
    "\n",
    "# Correct logger name\n",
    "logger = logging.getLogger(\"Arithmetic\")\n",
    "\n",
    "def add(a, b):\n",
    "    result = a + b\n",
    "    logger.debug(f\"adding {a} + {b} = {result}\")\n",
    "    return result\n",
    "\n",
    "def sub(a, b):\n",
    "    result = a - b\n",
    "    logger.debug(f\"subtracting {a} - {b} = {result}\")\n",
    "    return result\n",
    "\n",
    "def mult(a, b):\n",
    "    result = a * b\n",
    "    logger.debug(f\"multiplying {a} * {b} = {result}\")\n",
    "    return result\n",
    "\n",
    "def div(a, b):\n",
    "    try:\n",
    "        result = a / b\n",
    "        logger.debug(f\"dividing {a} / {b} = {result}\")\n",
    "        return result\n",
    "    except ZeroDivisionError:\n",
    "        logger.error(\"Division by zero error\")\n",
    "        return None\n",
    "\n",
    "# Test calls\n",
    "add(10, 5)\n",
    "sub(10, 5)\n",
    "mult(10, 10)\n",
    "div(10, 0)\n"
   ]
  },
  {
   "cell_type": "code",
   "execution_count": null,
   "id": "e8eac0c8",
   "metadata": {},
   "outputs": [],
   "source": []
  }
 ],
 "metadata": {
  "kernelspec": {
   "display_name": "Python 3",
   "language": "python",
   "name": "python3"
  },
  "language_info": {
   "codemirror_mode": {
    "name": "ipython",
    "version": 3
   },
   "file_extension": ".py",
   "mimetype": "text/x-python",
   "name": "python",
   "nbconvert_exporter": "python",
   "pygments_lexer": "ipython3",
   "version": "3.12.0"
  }
 },
 "nbformat": 4,
 "nbformat_minor": 5
}
