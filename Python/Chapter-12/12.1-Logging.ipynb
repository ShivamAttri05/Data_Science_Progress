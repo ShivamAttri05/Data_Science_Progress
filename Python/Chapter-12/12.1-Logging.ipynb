{
 "cells": [
  {
   "cell_type": "markdown",
   "id": "7b733ef6",
   "metadata": {},
   "source": [
    "## Python Logging\n",
    "\n",
    "Logging is a crucial aspect of any application, providing a way to track events, errors and operational information. Python's bulit in logging module offers a flexible framework for emitting log messages from Python Programs.\n",
    "\n",
    "In this lesson, we will cover the basics of logging, including how to configure logging, log levels, and best practices for using logging in Python applications."
   ]
  },
  {
   "cell_type": "code",
   "execution_count": null,
   "id": "cec5b4de",
   "metadata": {},
   "outputs": [],
   "source": [
    "import logging as lg"
   ]
  },
  {
   "cell_type": "code",
   "execution_count": 2,
   "id": "1a16c98f",
   "metadata": {},
   "outputs": [
    {
     "name": "stderr",
     "output_type": "stream",
     "text": [
      "DEBUG:root:This is a debug message\n",
      "INFO:root:This is a info message\n",
      "WARNING:root:This is a warning message\n",
      "ERROR:root:This is a error message\n",
      "CRITICAL:root:This is a critical message\n"
     ]
    }
   ],
   "source": [
    "# Configure the basic logging settings\n",
    "\n",
    "lg.basicConfig(level=lg.DEBUG)\n",
    "\n",
    "# log messages\n",
    "\n",
    "lg.debug(\"This is a debug message\")\n",
    "lg.info(\"This is a info message\")\n",
    "lg.warning(\"This is a warning message\")\n",
    "lg.error(\"This is a error message\")\n",
    "lg.critical(\"This is a critical message\")"
   ]
  },
  {
   "cell_type": "markdown",
   "id": "034f27d0",
   "metadata": {},
   "source": [
    "## Log Levels\n",
    "\n",
    "Python's logging module has several log levels indicating the severity of events. The default levels are:\n",
    "\n",
    "---\n",
    "\n",
    "### 🔹 `DEBUG` (Level 10)\n",
    "\n",
    "* **Purpose:** Detailed information, typically useful only for **diagnosing problems**.\n",
    "* **Use case:** Debugging logic, variable values, flow of execution.\n",
    "* **Example:**\n",
    "\n",
    "  ```python\n",
    "  logging.debug(\"Starting loop with i=%d\", i)\n",
    "  ```\n",
    "\n",
    "---\n",
    "\n",
    "### 🔹 `INFO` (Level 20)\n",
    "\n",
    "* **Purpose:** Confirmation that things are **working as expected**.\n",
    "* **Use case:** General application events, process completions, configuration details.\n",
    "* **Example:**\n",
    "\n",
    "  ```python\n",
    "  logging.info(\"User login successful\")\n",
    "  ```\n",
    "\n",
    "---\n",
    "\n",
    "### 🔸 `WARNING` (Level 30)\n",
    "\n",
    "* **Purpose:** An indication that something **unexpected** happened, or a potential problem in the future.\n",
    "* **Use case:** Deprecation warnings, fallback behavior, nearing disk quota.\n",
    "* **Example:**\n",
    "\n",
    "  ```python\n",
    "  logging.warning(\"Disk space low\")\n",
    "  ```\n",
    "\n",
    "---\n",
    "\n",
    "### 🔶 `ERROR` (Level 40)\n",
    "\n",
    "* **Purpose:** A **serious problem** that prevented part of the program from functioning.\n",
    "* **Use case:** Failed database query, exception caught but handled.\n",
    "* **Example:**\n",
    "\n",
    "  ```python\n",
    "  logging.error(\"Failed to connect to database\")\n",
    "  ```\n",
    "\n",
    "---\n",
    "\n",
    "### 🔴 `CRITICAL` (Level 50)\n",
    "\n",
    "* **Purpose:** A **fatal error** indicating the program itself may not be able to continue running.\n",
    "* **Use case:** System crash, memory error, data corruption.\n",
    "* **Example:**\n",
    "\n",
    "  ```python\n",
    "  logging.critical(\"System crash imminent\")\n",
    "  ```\n",
    "\n",
    "---\n",
    "\n",
    "### 🧠 Quick Summary Table\n",
    "\n",
    "| Level      | Numeric Value | Description                       |\n",
    "| ---------- | ------------- | --------------------------------- |\n",
    "| `DEBUG`    | 10            | Detailed debugging info           |\n",
    "| `INFO`     | 20            | Routine information               |\n",
    "| `WARNING`  | 30            | Something unexpected; not serious |\n",
    "| `ERROR`    | 40            | A problem occurred                |\n",
    "| `CRITICAL` | 50            | Serious error; program may crash  |\n",
    "\n",
    "---"
   ]
  },
  {
   "cell_type": "code",
   "execution_count": 11,
   "id": "c7205e92",
   "metadata": {},
   "outputs": [],
   "source": [
    "# Configure Logging\n",
    "\n",
    "import logging as lg\n",
    "\n",
    "lg.basicConfig(\n",
    "    filename='app.log',\n",
    "    filemode='w',\n",
    "    level=lg.DEBUG,\n",
    "    format='%(asctime)s-%(name)s-%(levelname)s-%(message)s',\n",
    "    datefmt='%d-%m-%y %H:%M:%S'\n",
    "    )\n",
    "\n",
    "lg.debug(\"This is a debug message\")\n",
    "lg.info(\"This is a info message\")\n",
    "lg.warning(\"This is a warning message\")\n",
    "lg.error(\"This is a error message\")\n",
    "lg.critical(\"This is a critical message\")"
   ]
  },
  {
   "cell_type": "code",
   "execution_count": null,
   "id": "81f162d4",
   "metadata": {},
   "outputs": [],
   "source": []
  }
 ],
 "metadata": {
  "kernelspec": {
   "display_name": "Python 3",
   "language": "python",
   "name": "python3"
  },
  "language_info": {
   "codemirror_mode": {
    "name": "ipython",
    "version": 3
   },
   "file_extension": ".py",
   "mimetype": "text/x-python",
   "name": "python",
   "nbconvert_exporter": "python",
   "pygments_lexer": "ipython3",
   "version": "3.12.0"
  }
 },
 "nbformat": 4,
 "nbformat_minor": 5
}
