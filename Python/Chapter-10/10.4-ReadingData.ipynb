{
 "cells": [
  {
   "cell_type": "markdown",
   "id": "f624e5b8",
   "metadata": {},
   "source": [
    "## Reading Data From Various Sources"
   ]
  },
  {
   "cell_type": "markdown",
   "id": "d835cdc4",
   "metadata": {},
   "source": []
  }
 ],
 "metadata": {
  "language_info": {
   "name": "python"
  }
 },
 "nbformat": 4,
 "nbformat_minor": 5
}
