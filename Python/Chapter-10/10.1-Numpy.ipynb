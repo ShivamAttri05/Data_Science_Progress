{
 "cells": [
  {
   "cell_type": "markdown",
   "id": "06169e73",
   "metadata": {},
   "source": [
    "## Numpy\n",
    "\n",
    "NumPy is a fundamental library for scientific computing in Python. It provide support for arrays and matrices, along with a collection of mathematical functions to operate on these data structure. In this lesson, we will cover the basics of NumPy, focusing on arrays and vectorized operations."
   ]
  }
 ],
 "metadata": {
  "kernelspec": {
   "display_name": "Python 3",
   "language": "python",
   "name": "python3"
  },
  "language_info": {
   "name": "python",
   "version": "3.12.0"
  }
 },
 "nbformat": 4,
 "nbformat_minor": 5
}
