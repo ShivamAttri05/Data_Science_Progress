{
 "cells": [
  {
   "cell_type": "markdown",
   "id": "06169e73",
   "metadata": {},
   "source": [
    "## Numpy\n",
    "\n",
    "NumPy is a fundamental library for scientific computing in Python. It provide support for arrays and matrices, along with a collection of mathematical functions to operate on these data structure. In this lesson, we will cover the basics of NumPy, focusing on arrays and vectorized operations."
   ]
  },
  {
   "cell_type": "code",
   "execution_count": 1,
   "id": "fa02f658",
   "metadata": {},
   "outputs": [
    {
     "name": "stdout",
     "output_type": "stream",
     "text": [
      "[1 2 3 4 5 6]\n"
     ]
    }
   ],
   "source": [
    "# NumPy\n",
    "import numpy as np\n",
    "\n",
    "# Creating Arrays using numpy\n",
    "# 1D Array\n",
    "\n",
    "arr1 = np.array([1,2,3,4,5,6])\n",
    "print(arr1)"
   ]
  },
  {
   "cell_type": "code",
   "execution_count": 2,
   "id": "253f9950",
   "metadata": {},
   "outputs": [
    {
     "name": "stdout",
     "output_type": "stream",
     "text": [
      "<class 'numpy.ndarray'>\n"
     ]
    }
   ],
   "source": [
    "print(type(arr1))"
   ]
  },
  {
   "cell_type": "code",
   "execution_count": 3,
   "id": "db08045a",
   "metadata": {},
   "outputs": [
    {
     "name": "stdout",
     "output_type": "stream",
     "text": [
      "(6,)\n"
     ]
    }
   ],
   "source": [
    "print(arr1.shape)       # (6,) whenever there is a single dimension only one number is given"
   ]
  },
  {
   "cell_type": "code",
   "execution_count": 4,
   "id": "8ef72a10",
   "metadata": {},
   "outputs": [
    {
     "data": {
      "text/plain": [
       "array([[1, 2, 3, 4, 5]])"
      ]
     },
     "execution_count": 4,
     "metadata": {},
     "output_type": "execute_result"
    }
   ],
   "source": [
    "# 2D Array\n",
    "\n",
    "arr2 = np.array([1,2,3,4,5])\n",
    "arr2.reshape(1,5)       # 1 Row and 5 Columns"
   ]
  },
  {
   "cell_type": "code",
   "execution_count": 5,
   "id": "cca86e43",
   "metadata": {},
   "outputs": [
    {
     "name": "stdout",
     "output_type": "stream",
     "text": [
      "[[1 2 3 4 5]]\n",
      "(1, 5)\n"
     ]
    }
   ],
   "source": [
    "arr2 = np.array([[1,2,3,4,5]])\n",
    "print(arr2)\n",
    "print(arr2.shape)"
   ]
  },
  {
   "cell_type": "code",
   "execution_count": null,
   "id": "2f000dac",
   "metadata": {},
   "outputs": [
    {
     "data": {
      "text/plain": [
       "array([0, 2, 4, 6, 8])"
      ]
     },
     "execution_count": 8,
     "metadata": {},
     "output_type": "execute_result"
    }
   ],
   "source": [
    "np.arange(0, 10, 2)         # np.arange(start, stop, step) creates an array with regularly spaced values."
   ]
  },
  {
   "cell_type": "code",
   "execution_count": 9,
   "id": "499bf07a",
   "metadata": {},
   "outputs": [
    {
     "data": {
      "text/plain": [
       "array([[0],\n",
       "       [2],\n",
       "       [4],\n",
       "       [6],\n",
       "       [8]])"
      ]
     },
     "execution_count": 9,
     "metadata": {},
     "output_type": "execute_result"
    }
   ],
   "source": [
    "np.arange(0, 10, 2).reshape(5,1)"
   ]
  },
  {
   "cell_type": "code",
   "execution_count": null,
   "id": "ecd3a76e",
   "metadata": {},
   "outputs": [
    {
     "data": {
      "text/plain": [
       "array([[1., 1., 1., 1.],\n",
       "       [1., 1., 1., 1.],\n",
       "       [1., 1., 1., 1.]])"
      ]
     },
     "execution_count": 10,
     "metadata": {},
     "output_type": "execute_result"
    }
   ],
   "source": [
    "np.ones((3,4))      # Creates a NumPy array filled with ones, having 3 rows and 4 columns."
   ]
  },
  {
   "cell_type": "code",
   "execution_count": 12,
   "id": "8b3db115",
   "metadata": {},
   "outputs": [
    {
     "data": {
      "text/plain": [
       "array([[1., 0., 0.],\n",
       "       [0., 1., 0.],\n",
       "       [0., 0., 1.]])"
      ]
     },
     "execution_count": 12,
     "metadata": {},
     "output_type": "execute_result"
    }
   ],
   "source": [
    "np.eye(3)           # Creates an Identity Matrix"
   ]
  },
  {
   "cell_type": "code",
   "execution_count": null,
   "id": "ae324ead",
   "metadata": {},
   "outputs": [
    {
     "name": "stdout",
     "output_type": "stream",
     "text": [
      "Array:\n",
      " [[1 2 3]\n",
      " [4 5 6]]\n",
      "Shape:  (2, 3)\n",
      "Number of Dimension:  2\n",
      "Size (number of elements):  6\n",
      "Data Type:  int64\n",
      "Item size (in bytes):  8\n"
     ]
    }
   ],
   "source": [
    "# Attribute of Numpy Array\n",
    "arr = np.array([[1,2,3],[4,5,6]])\n",
    "\n",
    "print(\"Array:\\n\", arr)\n",
    "print(\"Shape: \", arr.shape)\n",
    "print(\"Number of Dimension: \", arr.ndim)\n",
    "print(\"Size (number of elements): \", arr.size)\n",
    "print(\"Data Type: \", arr.dtype)\n",
    "print(\"Item size (in bytes): \", arr.itemsize)"
   ]
  },
  {
   "cell_type": "code",
   "execution_count": 17,
   "id": "cce8ee42",
   "metadata": {},
   "outputs": [],
   "source": [
    "# Numpy Vectorized Operation\n",
    "\n",
    "arr1 = np.array([1,2,3,4,5])\n",
    "arr2 = np.array([10,20,30,40,50])"
   ]
  },
  {
   "cell_type": "code",
   "execution_count": null,
   "id": "7291416f",
   "metadata": {},
   "outputs": [
    {
     "name": "stdout",
     "output_type": "stream",
     "text": [
      "Addition:  [11 22 33 44 55]\n"
     ]
    }
   ],
   "source": [
    "# Element wise Addition\n",
    "print(\"Addition: \", arr1 + arr2)"
   ]
  },
  {
   "cell_type": "code",
   "execution_count": null,
   "id": "ad5c84c7",
   "metadata": {},
   "outputs": [
    {
     "name": "stdout",
     "output_type": "stream",
     "text": [
      "Subtraction:  [ -9 -18 -27 -36 -45]\n"
     ]
    }
   ],
   "source": [
    "# Element wise Subtraction\n",
    "print(\"Subtraction: \", arr1-arr2)"
   ]
  },
  {
   "cell_type": "code",
   "execution_count": 20,
   "id": "61606b6a",
   "metadata": {},
   "outputs": [
    {
     "name": "stdout",
     "output_type": "stream",
     "text": [
      "Multiplication:  [ 10  40  90 160 250]\n"
     ]
    }
   ],
   "source": [
    "# Element wise Multiplication\n",
    "print(\"Multiplication: \", arr1 * arr2)"
   ]
  },
  {
   "cell_type": "code",
   "execution_count": 21,
   "id": "541597c3",
   "metadata": {},
   "outputs": [
    {
     "name": "stdout",
     "output_type": "stream",
     "text": [
      "Division:  [0.1 0.1 0.1 0.1 0.1]\n"
     ]
    }
   ],
   "source": [
    "# Elements wise Division\n",
    "print(\"Division: \", arr1/arr2)"
   ]
  },
  {
   "cell_type": "code",
   "execution_count": 22,
   "id": "4805faab",
   "metadata": {},
   "outputs": [
    {
     "name": "stdout",
     "output_type": "stream",
     "text": [
      "[1.         1.41421356 1.73205081 2.         2.23606798]\n",
      "[  2.71828183   7.3890561   20.08553692  54.59815003 148.4131591 ]\n",
      "[ 0.84147098  0.90929743  0.14112001 -0.7568025  -0.95892427]\n",
      "[0.         0.69314718 1.09861229 1.38629436 1.60943791]\n"
     ]
    }
   ],
   "source": [
    "# Universal Function\n",
    "arr = np.array([1,2,3,4,5])\n",
    "\n",
    "# Square Root\n",
    "print(np.sqrt(arr))\n",
    "\n",
    "# Exponential\n",
    "print(np.exp(arr))\n",
    "\n",
    "# Sine\n",
    "print(np.sin(arr))\n",
    "\n",
    "# log\n",
    "print(np.log(arr))"
   ]
  },
  {
   "cell_type": "code",
   "execution_count": 25,
   "id": "075031dc",
   "metadata": {},
   "outputs": [
    {
     "name": "stdout",
     "output_type": "stream",
     "text": [
      "Array: \n",
      " [[ 1  2  3  4  5]\n",
      " [ 6  7  8  9 10]\n",
      " [11 12 13 14 15]]\n"
     ]
    }
   ],
   "source": [
    "# Array Slicing and Indexing\n",
    "\n",
    "arr = np.array([[1,2,3,4,5],[6,7,8,9,10],[11,12,13,14,15]])\n",
    "print(\"Array: \\n\", arr)"
   ]
  },
  {
   "cell_type": "code",
   "execution_count": null,
   "id": "f6d3b08c",
   "metadata": {},
   "outputs": [
    {
     "data": {
      "text/plain": [
       "array([1, 2, 3, 4, 5])"
      ]
     },
     "execution_count": 26,
     "metadata": {},
     "output_type": "execute_result"
    }
   ],
   "source": [
    "arr[0]"
   ]
  },
  {
   "cell_type": "code",
   "execution_count": 31,
   "id": "0f06b84b",
   "metadata": {},
   "outputs": [
    {
     "name": "stdout",
     "output_type": "stream",
     "text": [
      "1\n"
     ]
    }
   ],
   "source": [
    "print(arr[0][0])"
   ]
  },
  {
   "cell_type": "code",
   "execution_count": 28,
   "id": "e8ba634f",
   "metadata": {},
   "outputs": [
    {
     "data": {
      "text/plain": [
       "array([[ 6,  7,  8,  9, 10],\n",
       "       [11, 12, 13, 14, 15]])"
      ]
     },
     "execution_count": 28,
     "metadata": {},
     "output_type": "execute_result"
    }
   ],
   "source": [
    "arr[1:]"
   ]
  },
  {
   "cell_type": "code",
   "execution_count": 30,
   "id": "38b1478d",
   "metadata": {},
   "outputs": [
    {
     "data": {
      "text/plain": [
       "array([[ 8,  9, 10],\n",
       "       [13, 14, 15]])"
      ]
     },
     "execution_count": 30,
     "metadata": {},
     "output_type": "execute_result"
    }
   ],
   "source": [
    "arr[1:,2:]"
   ]
  },
  {
   "cell_type": "code",
   "execution_count": 34,
   "id": "fd8ca768",
   "metadata": {},
   "outputs": [
    {
     "name": "stdout",
     "output_type": "stream",
     "text": [
      "[[10000     2     3     4     5]\n",
      " [    6     7     8     9    10]\n",
      " [   11    12    13    14    15]]\n"
     ]
    }
   ],
   "source": [
    "# Modify Array Element\n",
    "\n",
    "arr[0,0] = 10000\n",
    "print(arr)"
   ]
  },
  {
   "cell_type": "code",
   "execution_count": 37,
   "id": "699a12b9",
   "metadata": {},
   "outputs": [
    {
     "name": "stdout",
     "output_type": "stream",
     "text": [
      "Original Data:\n",
      " [[170  65  30]\n",
      " [160  70  25]\n",
      " [180  80  35]\n",
      " [175  75  28]]\n",
      "\n",
      "Mean:\n",
      " [171.25  72.5   29.5 ]\n",
      "Standard Deviation:\n",
      " [7.39509973 5.59016994 3.64005494]\n",
      "\n",
      "Normalized Data:\n",
      " [[-0.16903085 -1.34164079  0.13736056]\n",
      " [-1.52127766 -0.4472136  -1.23624508]\n",
      " [ 1.18321596  1.34164079  1.5109662 ]\n",
      " [ 0.50709255  0.4472136  -0.41208169]]\n"
     ]
    }
   ],
   "source": [
    "import numpy as np\n",
    "\n",
    "# Sample data: \n",
    "# rows = samples, columns = features\n",
    "# Let's say [height (cm), weight (kg), age (years)]\n",
    "data = np.array([\n",
    "    [170, 65, 30],\n",
    "    [160, 70, 25],\n",
    "    [180, 80, 35],\n",
    "    [175, 75, 28]\n",
    "])\n",
    "\n",
    "print(\"Original Data:\\n\", data)\n",
    "\n",
    "# Compute mean and std deviation for each column (feature)\n",
    "mean = np.mean(data, axis=0)\n",
    "std_dev = np.std(data, axis=0)\n",
    "\n",
    "print(\"\\nMean:\\n\", mean)\n",
    "print(\"Standard Deviation:\\n\", std_dev)\n",
    "\n",
    "# Normalize each feature column-wise\n",
    "normalized_data = (data - mean) / std_dev\n",
    "print(\"\\nNormalized Data:\\n\", normalized_data)\n"
   ]
  },
  {
   "cell_type": "code",
   "execution_count": null,
   "id": "c22c5717",
   "metadata": {},
   "outputs": [
    {
     "name": "stdout",
     "output_type": "stream",
     "text": [
      "Data:  [ 1  2  3  4  5  6  7  8  9 10]\n",
      "Mean:  5.5\n",
      "Median:  5.5\n",
      "Mode:  1\n"
     ]
    }
   ],
   "source": [
    "# Sample data\n",
    "data = np.array([1,2,3,4,5,6,7,8,9,10])\n",
    "\n",
    "# Mean\n",
    "mean = np.mean(data)\n",
    "\n",
    "# Median\n",
    "median = np.median(data)\n",
    "\n",
    "# Mode (manual way using numpy)\n",
    "values, counts = np.unique(data, return_counts=True)\n",
    "# values: sorted unique numbers → [1, 2, 4, 5, 7, 9]\n",
    "# counts: how many times each appears → [1, 3, 2, 2, 1, 1]\n",
    "# np.argmax(counts): index of max count → 1 → value is 2\n",
    "\n",
    "mode = values[np.argmax(counts)]\n",
    "\n",
    "print(\"Data: \", data)\n",
    "print(\"Mean: \", mean)\n",
    "print(\"Median: \", median)\n",
    "print(\"Mode: \", mode)\n"
   ]
  },
  {
   "cell_type": "code",
   "execution_count": null,
   "id": "bc56f55b",
   "metadata": {},
   "outputs": [],
   "source": []
  }
 ],
 "metadata": {
  "kernelspec": {
   "display_name": "Python 3",
   "language": "python",
   "name": "python3"
  },
  "language_info": {
   "codemirror_mode": {
    "name": "ipython",
    "version": 3
   },
   "file_extension": ".py",
   "mimetype": "text/x-python",
   "name": "python",
   "nbconvert_exporter": "python",
   "pygments_lexer": "ipython3",
   "version": "3.12.0"
  }
 },
 "nbformat": 4,
 "nbformat_minor": 5
}
