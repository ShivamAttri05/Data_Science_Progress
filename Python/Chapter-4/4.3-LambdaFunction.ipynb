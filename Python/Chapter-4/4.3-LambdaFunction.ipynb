{
 "cells": [
  {
   "cell_type": "markdown",
   "id": "587811da",
   "metadata": {},
   "source": [
    "# Lambda Function in Python\n",
    "\n",
    "Lambda function are small anonymous functions defined using the **lambda** keyword. They can have any number of arguments but only one expression. They are commonly used for short operations or as arguments to higher-order functions."
   ]
  },
  {
   "cell_type": "code",
   "execution_count": null,
   "id": "e2595024",
   "metadata": {},
   "outputs": [],
   "source": [
    "# Syntax\n",
    "lambda aguments: expression"
   ]
  }
 ],
 "metadata": {
  "kernelspec": {
   "display_name": "Python 3",
   "language": "python",
   "name": "python3"
  },
  "language_info": {
   "name": "python",
   "version": "3.12.0"
  }
 },
 "nbformat": 4,
 "nbformat_minor": 5
}
