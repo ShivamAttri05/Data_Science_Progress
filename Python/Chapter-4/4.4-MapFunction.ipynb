{
 "cells": [
  {
   "cell_type": "markdown",
   "id": "e3254d8f",
   "metadata": {},
   "source": [
    "# map() Function in Python\n",
    "\n",
    "- The map() function applies a given function to all items in an input list (or any other iterable) and return a map object (an iterator). This is particularly useful for transforming data in a list comprehensively."
   ]
  },
  {
   "cell_type": "code",
   "execution_count": 2,
   "id": "794b87ae",
   "metadata": {},
   "outputs": [
    {
     "data": {
      "text/plain": [
       "100"
      ]
     },
     "execution_count": 2,
     "metadata": {},
     "output_type": "execute_result"
    }
   ],
   "source": [
    "def squareArea(x):\n",
    "    return x*x\n",
    "\n",
    "squareArea(10)"
   ]
  },
  {
   "cell_type": "code",
   "execution_count": 3,
   "id": "ade36c77",
   "metadata": {},
   "outputs": [
    {
     "data": {
      "text/plain": [
       "[1, 4, 9, 16, 25, 36, 49, 64, 81]"
      ]
     },
     "execution_count": 3,
     "metadata": {},
     "output_type": "execute_result"
    }
   ],
   "source": [
    "number = [1,2,3,4,5,6,7,8,9]\n",
    "\n",
    "list(map(squareArea,number))"
   ]
  },
  {
   "cell_type": "code",
   "execution_count": 4,
   "id": "1d8ef5fa",
   "metadata": {},
   "outputs": [
    {
     "data": {
      "text/plain": [
       "[1, 4, 9, 16, 25, 36, 49, 64, 81]"
      ]
     },
     "execution_count": 4,
     "metadata": {},
     "output_type": "execute_result"
    }
   ],
   "source": [
    "# Lambda Function with Map()\n",
    "\n",
    "number = [1,2,3,4,5,6,7,8,9]\n",
    "\n",
    "list(map(lambda x:x*x, number))"
   ]
  },
  {
   "cell_type": "code",
   "execution_count": 5,
   "id": "1f93790f",
   "metadata": {},
   "outputs": [
    {
     "name": "stdout",
     "output_type": "stream",
     "text": [
      "[12, 15, 18]\n"
     ]
    }
   ],
   "source": [
    "# Map Multiple Iterables\n",
    "\n",
    "number1 = [1,2,3]\n",
    "number2 = [4,5,6]\n",
    "number3 = [7,8,9]\n",
    "addNum = list(map(lambda x,y,z : x+y+z, number1, number2, number3))\n",
    "print(addNum)"
   ]
  },
  {
   "cell_type": "code",
   "execution_count": 7,
   "id": "23f84b27",
   "metadata": {},
   "outputs": [
    {
     "name": "stdout",
     "output_type": "stream",
     "text": [
      "[1, 2, 3, 4, 5]\n"
     ]
    }
   ],
   "source": [
    "# map() to convert a list of strings to integers\n",
    "\n",
    "strNumbers = ['1', '2', '3', '4', '5']\n",
    "print(list(map(int, strNumbers)))"
   ]
  },
  {
   "cell_type": "code",
   "execution_count": 8,
   "id": "1704e390",
   "metadata": {},
   "outputs": [
    {
     "name": "stdout",
     "output_type": "stream",
     "text": [
      "['APPLE', 'BANANA', 'MANGO']\n"
     ]
    }
   ],
   "source": [
    "word = ['apple', 'banana', 'mango']\n",
    "upperWord = list(map(str.upper, word))\n",
    "print(upperWord)"
   ]
  },
  {
   "cell_type": "markdown",
   "id": "461f5eb9",
   "metadata": {},
   "source": [
    "## Conclusion\n",
    "The map() function is a powerful tool to applying transforming to iterables data structure. It can be used with regular functions, lambda functions, and even multiple iterables, providing a versatile approach to data processing in python. By understanding and utilizing map(), you can write more efficient and readable code."
   ]
  }
 ],
 "metadata": {
  "kernelspec": {
   "display_name": "Python 3",
   "language": "python",
   "name": "python3"
  },
  "language_info": {
   "codemirror_mode": {
    "name": "ipython",
    "version": 3
   },
   "file_extension": ".py",
   "mimetype": "text/x-python",
   "name": "python",
   "nbconvert_exporter": "python",
   "pygments_lexer": "ipython3",
   "version": "3.12.0"
  }
 },
 "nbformat": 4,
 "nbformat_minor": 5
}
