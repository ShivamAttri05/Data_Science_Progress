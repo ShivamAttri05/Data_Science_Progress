{
 "cells": [
  {
   "cell_type": "markdown",
   "id": "4f22f518",
   "metadata": {},
   "source": [
    "# More Examples of Functions..."
   ]
  },
  {
   "cell_type": "markdown",
   "id": "892b171e",
   "metadata": {},
   "source": [
    "- Example 1: Temperature Conversion"
   ]
  },
  {
   "cell_type": "code",
   "execution_count": 2,
   "id": "d1dc140e",
   "metadata": {},
   "outputs": [
    {
     "name": "stdout",
     "output_type": "stream",
     "text": [
      "77.0\n",
      "62.22222222222222\n",
      "-10.555555555555555\n"
     ]
    }
   ],
   "source": [
    "def tempConversion(temp, scale):\n",
    "\n",
    "    \"\"\"This function is used for the conversion of the temperature between Celsius and Fahrenheit\"\"\"\n",
    "\n",
    "    if scale == 'C' or scale == 'c':\n",
    "        return temp * (9/5) + 32\n",
    "    elif scale == 'F' or scale == 'f':\n",
    "        return (temp - 32) * 5/9\n",
    "    else:\n",
    "        return None\n",
    "\n",
    "print(tempConversion(25, 'c'))\n",
    "print(tempConversion(144, 'F'))\n",
    "print(tempConversion(13, 'f'))"
   ]
  },
  {
   "cell_type": "markdown",
   "id": "5e428a1d",
   "metadata": {},
   "source": [
    "- Password Strength Checker"
   ]
  },
  {
   "cell_type": "code",
   "execution_count": 3,
   "id": "1fddd14f",
   "metadata": {},
   "outputs": [
    {
     "name": "stdout",
     "output_type": "stream",
     "text": [
      "weak\n",
      "strong\n"
     ]
    }
   ],
   "source": [
    "def passwordStrenghtChecker(pw):\n",
    "    \n",
    "    \"\"\"This Function is used to check whether the password is strong or weak\"\"\"\n",
    "\n",
    "    if len(pw)<8:\n",
    "        return \"weak\"\n",
    "    if not any(char.isdigit() for char in pw):\n",
    "        return \"weak\"\n",
    "    if not any(char.islower() for char in pw):\n",
    "        return \"weak\"\n",
    "    if not any(char.isupper() for char in pw):\n",
    "        return \"weak\"\n",
    "    if not any(char in \"!@#$%^&*_-+=\" for char in pw):\n",
    "        return \"weak\"\n",
    "    return \"strong\"\n",
    "    \n",
    "print(passwordStrenghtChecker(\"Shivam05\"))\n",
    "print(passwordStrenghtChecker(\"Shivam05#\"))"
   ]
  },
  {
   "cell_type": "markdown",
   "id": "23aaf278",
   "metadata": {},
   "source": [
    "- Calculate the total cost of Items in a Shopping Cart"
   ]
  },
  {
   "cell_type": "code",
   "execution_count": null,
   "id": "4c2a55e3",
   "metadata": {},
   "outputs": [],
   "source": []
  }
 ],
 "metadata": {
  "kernelspec": {
   "display_name": "Python 3",
   "language": "python",
   "name": "python3"
  },
  "language_info": {
   "codemirror_mode": {
    "name": "ipython",
    "version": 3
   },
   "file_extension": ".py",
   "mimetype": "text/x-python",
   "name": "python",
   "nbconvert_exporter": "python",
   "pygments_lexer": "ipython3",
   "version": "3.12.0"
  }
 },
 "nbformat": 4,
 "nbformat_minor": 5
}
