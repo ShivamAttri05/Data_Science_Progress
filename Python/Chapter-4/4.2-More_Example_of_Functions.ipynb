{
 "cells": [
  {
   "cell_type": "markdown",
   "id": "4f22f518",
   "metadata": {},
   "source": [
    "# More Examples of Functions..."
   ]
  },
  {
   "cell_type": "markdown",
   "id": "892b171e",
   "metadata": {},
   "source": [
    "- Example 1: Temperature Conversion"
   ]
  },
  {
   "cell_type": "code",
   "execution_count": 2,
   "id": "d1dc140e",
   "metadata": {},
   "outputs": [
    {
     "name": "stdout",
     "output_type": "stream",
     "text": [
      "77.0\n",
      "62.22222222222222\n",
      "-10.555555555555555\n"
     ]
    }
   ],
   "source": [
    "def tempConversion(temp, scale):\n",
    "\n",
    "    \"\"\"This function is used for the conversion of the temperature between Celsius and Fahrenheit\"\"\"\n",
    "\n",
    "    if scale == 'C' or scale == 'c':\n",
    "        return temp * (9/5) + 32\n",
    "    elif scale == 'F' or scale == 'f':\n",
    "        return (temp - 32) * 5/9\n",
    "    else:\n",
    "        return None\n",
    "\n",
    "print(tempConversion(25, 'c'))\n",
    "print(tempConversion(144, 'F'))\n",
    "print(tempConversion(13, 'f'))"
   ]
  },
  {
   "cell_type": "markdown",
   "id": "5e428a1d",
   "metadata": {},
   "source": [
    "- Password Strength Checker"
   ]
  },
  {
   "cell_type": "code",
   "execution_count": 3,
   "id": "1fddd14f",
   "metadata": {},
   "outputs": [
    {
     "name": "stdout",
     "output_type": "stream",
     "text": [
      "weak\n",
      "strong\n"
     ]
    }
   ],
   "source": [
    "def passwordStrenghtChecker(pw):\n",
    "    \n",
    "    \"\"\"This Function is used to check whether the password is strong or weak\"\"\"\n",
    "\n",
    "    if len(pw)<8:\n",
    "        return \"weak\"\n",
    "    if not any(char.isdigit() for char in pw):\n",
    "        return \"weak\"\n",
    "    if not any(char.islower() for char in pw):\n",
    "        return \"weak\"\n",
    "    if not any(char.isupper() for char in pw):\n",
    "        return \"weak\"\n",
    "    if not any(char in \"!@#$%^&*_-+=\" for char in pw):\n",
    "        return \"weak\"\n",
    "    return \"strong\"\n",
    "    \n",
    "print(passwordStrenghtChecker(\"Shivam05\"))\n",
    "print(passwordStrenghtChecker(\"Shivam05#\"))"
   ]
  },
  {
   "cell_type": "markdown",
   "id": "23aaf278",
   "metadata": {},
   "source": [
    "- Calculate the total cost of Items in a Shopping Cart"
   ]
  },
  {
   "cell_type": "code",
   "execution_count": 7,
   "id": "4c2a55e3",
   "metadata": {},
   "outputs": [
    {
     "name": "stdout",
     "output_type": "stream",
     "text": [
      "91.5\n"
     ]
    }
   ],
   "source": [
    "def claculateTotalCost(cart):\n",
    "    totalCost = 0\n",
    "    for item in cart:\n",
    "        totalCost = totalCost + (item['price'] * item['quantity'])\n",
    "\n",
    "    return totalCost\n",
    "    \n",
    "cart = [\n",
    "    {\n",
    "        'name':'Apple', 'price':1.5, 'quantity':4\n",
    "    },\n",
    "    {\n",
    "        'name':'Banana', 'price':0.3, 'quantity':12\n",
    "    },       \n",
    "    {\n",
    "        'name':'Cherry', 'price':1.3, 'quantity':18\n",
    "    },\n",
    "    {\n",
    "        'name':'Mango', 'price':0.8, 'quantity':7\n",
    "    },\n",
    "    {\n",
    "        'name':'Grapes', 'price':2.3, 'quantity':23\n",
    "    }\n",
    "]\n",
    "\n",
    "print(claculateTotalCost(cart))"
   ]
  },
  {
   "cell_type": "markdown",
   "id": "92752dba",
   "metadata": {},
   "source": [
    "- Check if a string is palindrome or not"
   ]
  },
  {
   "cell_type": "code",
   "execution_count": 9,
   "id": "f508461d",
   "metadata": {},
   "outputs": [
    {
     "name": "stdout",
     "output_type": "stream",
     "text": [
      "False\n",
      "False\n",
      "False\n",
      "True\n"
     ]
    }
   ],
   "source": [
    "def palindromeString(string):\n",
    "    if string == string[::-1]:\n",
    "        return True\n",
    "    else:\n",
    "        return False\n",
    "    \n",
    "print(palindromeString(\"hello\"))\n",
    "print(palindromeString(\"Shivam\"))\n",
    "print(palindromeString(\"Nitin\"))\n",
    "print(palindromeString(\"nitin\"))\n"
   ]
  },
  {
   "cell_type": "markdown",
   "id": "cfb98c35",
   "metadata": {},
   "source": [
    "- Factorial of a number using recursion"
   ]
  },
  {
   "cell_type": "code",
   "execution_count": 11,
   "id": "818147ad",
   "metadata": {},
   "outputs": [
    {
     "name": "stdout",
     "output_type": "stream",
     "text": [
      "120\n",
      "3628800\n",
      "2432902008176640000\n",
      "479001600\n"
     ]
    }
   ],
   "source": [
    "def factorial(num):\n",
    "    if num == 0:\n",
    "        return 1\n",
    "    else:\n",
    "        return num * factorial(num - 1)\n",
    "    \n",
    "print(factorial(5))\n",
    "print(factorial(10))\n",
    "print(factorial(20))\n",
    "print(factorial(12))"
   ]
  },
  {
   "cell_type": "markdown",
   "id": "9a0be0b3",
   "metadata": {},
   "source": [
    "- Validate the Email Address"
   ]
  },
  {
   "cell_type": "code",
   "execution_count": 14,
   "id": "b076732e",
   "metadata": {},
   "outputs": [
    {
     "name": "stdout",
     "output_type": "stream",
     "text": [
      "True\n"
     ]
    }
   ],
   "source": [
    "import re\n",
    "\n",
    "def validateEmail(email):\n",
    "    \n",
    "    pattern = r'^[a-zA-Z0-9_.+-]+@[a-zA-Z0-9-]+\\.[a-zA-Z0-9-.]+$'\n",
    "    return re.match(pattern, email) is not None\n",
    "\n",
    "print(validateEmail(\"shivam@gmail.com\"))"
   ]
  }
 ],
 "metadata": {
  "kernelspec": {
   "display_name": "Python 3",
   "language": "python",
   "name": "python3"
  },
  "language_info": {
   "codemirror_mode": {
    "name": "ipython",
    "version": 3
   },
   "file_extension": ".py",
   "mimetype": "text/x-python",
   "name": "python",
   "nbconvert_exporter": "python",
   "pygments_lexer": "ipython3",
   "version": "3.12.0"
  }
 },
 "nbformat": 4,
 "nbformat_minor": 5
}
